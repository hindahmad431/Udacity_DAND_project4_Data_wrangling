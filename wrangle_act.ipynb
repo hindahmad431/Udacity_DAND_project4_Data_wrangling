{
  "nbformat": 4,
  "nbformat_minor": 0,
  "metadata": {
    "kernelspec": {
      "display_name": "Python 3",
      "language": "python",
      "name": "python3"
    },
    "language_info": {
      "codemirror_mode": {
        "name": "ipython",
        "version": 3
      },
      "file_extension": ".py",
      "mimetype": "text/x-python",
      "name": "python",
      "nbconvert_exporter": "python",
      "pygments_lexer": "ipython3",
      "version": "3.7.6"
    },
    "colab": {
      "name": "wrangle_act.ipynb",
      "provenance": []
    }
  },
  "cells": [
    {
      "cell_type": "markdown",
      "metadata": {
        "id": "TrH6Ik4LPQPU"
      },
      "source": [
        "# Udacity DAND project 3 --  Data Wrangling"
      ]
    },
    {
      "cell_type": "markdown",
      "metadata": {
        "id": "fhhP5KlcPQPU"
      },
      "source": [
        "In this project, we will practice an important concept in data analysis cycle which is data wrangling. This process include \n",
        "\n",
        "<a href ='#gather'> Step1 - Data Gathering </a>\n",
        "\n",
        "<a href ='#assess'> Step2 - Data Assessment </a>\n",
        "\n",
        "<a href ='#clean'> Step3 - Data Cleaning </a>\n",
        "\n",
        "<a href ='#explore'> Step4 - Exploratory Data analysis: </a> This project will also include visulization of data to extract useful insights.\n",
        "\n",
        "\n",
        "\n",
        "The dataset used in this project is taking from archive of Twitter user @dog_rates, also known as WeRateDogs. eRateDogs is a Twitter account that rates people's dogs with a humorous comment about the dog. WeRateDogs has over 4 million followers and has received international media coverage."
      ]
    },
    {
      "cell_type": "markdown",
      "metadata": {
        "id": "_Jvc-M2VPQPU"
      },
      "source": [
        "Requirments: \n",
        "    \n",
        "*8 quality issues*\n",
        "*2 tideness issues*"
      ]
    },
    {
      "cell_type": "markdown",
      "metadata": {
        "id": "YnxbvCRqPQPU"
      },
      "source": [
        "## <div id=gather> Step1: Gather </div>"
      ]
    },
    {
      "cell_type": "markdown",
      "metadata": {
        "id": "LDjtsn_cPQPU"
      },
      "source": [
        "int this step we will gather three tables: \n",
        "    \n",
        "  1- **WeRateDogs Twitter archive** --> this dataset include rating related information \n",
        "    \n",
        "  2- **Dog Image Prediction** --> this dataset include the prediction of dog images\n",
        "    \n",
        "  3- **Twitter Data** --> this data include retweet counts and likes and others."
      ]
    },
    {
      "cell_type": "markdown",
      "metadata": {
        "id": "UNkbPFg0PQPU"
      },
      "source": [
        "#### 1- we will start by importing the required libraries: "
      ]
    },
    {
      "cell_type": "code",
      "metadata": {
        "id": "2ztC8ektPQPU"
      },
      "source": [
        "import pandas as pd\n",
        "import numpy as np\n",
        "import requests \n",
        "import tweepy \n",
        "import json\n",
        "from os import path\n",
        "from PIL import Image\n",
        "from wordcloud import WordCloud, STOPWORDS, ImageColorGenerator\n",
        "\n",
        "import matplotlib.pyplot as plt\n",
        "import seaborn as sns\n",
        "from IPython.core.display import Image, display, HTML\n",
        "\n",
        "sns.set_style('darkgrid')"
      ],
      "execution_count": null,
      "outputs": []
    },
    {
      "cell_type": "markdown",
      "metadata": {
        "id": "glgicuFqPQPU"
      },
      "source": [
        "#### 2- save WeRateDogs Twitter archive csv file in  a dataframe "
      ]
    },
    {
      "cell_type": "code",
      "metadata": {
        "id": "VtZpCwfAPQPU"
      },
      "source": [
        "twitter_archive = pd.read_csv('twitter-archive-enhanced.csv')"
      ],
      "execution_count": null,
      "outputs": []
    },
    {
      "cell_type": "markdown",
      "metadata": {
        "id": "DK3aep_SPQPU"
      },
      "source": [
        "#### 3- download the image prediction file programmatically using requests library."
      ]
    },
    {
      "cell_type": "code",
      "metadata": {
        "id": "eHQ4wHoyPQPU"
      },
      "source": [
        "url = 'https://d17h27t6h515a5.cloudfront.net/topher/2017/August/599fd2ad_image-predictions/image-predictions.tsv'\n",
        "\n",
        "responce = requests.get(url)\n",
        "url_content = responce.content\n",
        "csv_file = open('image_prediction.tsv', 'wb')\n",
        "\n",
        "#this function write the content of the reponce to the opened csv file.\n",
        "csv_file.write(url_content)\n",
        "\n",
        "#closing the connection\n",
        "csv_file.close()"
      ],
      "execution_count": null,
      "outputs": []
    },
    {
      "cell_type": "code",
      "metadata": {
        "id": "uNaNFBXYPQPU"
      },
      "source": [
        "image_predict = pd.read_csv('image_prediction.tsv', sep='\\t')"
      ],
      "execution_count": null,
      "outputs": []
    },
    {
      "cell_type": "markdown",
      "metadata": {
        "id": "PTdGxQ0ePQPU"
      },
      "source": [
        "#### 4- Using Twitter API"
      ]
    },
    {
      "cell_type": "markdown",
      "metadata": {
        "id": "bD5xg4QvPQPU"
      },
      "source": [
        "The following codes were taken from the udacity project instructions. The first step was to create a Twitter developer account in order to get the required API access credentials. Next the following code was executed only once until we got the complete JSON file. Then, I saved the resulted JSON file inside the local project directory. Thus, we didn't require to repeat this code at each run. "
      ]
    },
    {
      "cell_type": "code",
      "metadata": {
        "id": "C-BVYDsqPQPU"
      },
      "source": [
        "#Query Twitter API for each tweet in the Twitter archive and save JSON in a text file\n",
        "#These are hidden to comply with Twitter's API terms and conditions\n",
        "\n",
        "consumer_key = ''\n",
        "consumer_secret = ''\n",
        "access_token = ''\n",
        "access_secret = ''\n",
        "\n",
        "auth = tweepy.OAuthHandler(consumer_key, consumer_secret)\n",
        "auth.set_access_token(access_token, access_secret)\n",
        "\n",
        "api = tweepy.API(auth)"
      ],
      "execution_count": null,
      "outputs": []
    },
    {
      "cell_type": "markdown",
      "metadata": {
        "id": "AIrtu2S7PQPU"
      },
      "source": [
        "from tweepy import OAuthHandler\n",
        "from timeit import default_timer as timer\n",
        "\n",
        "#Tweet IDs for which to gather additional data via Twitter's API\n",
        "tweet_ids = twitter_archieve.tweet_id.values\n",
        "len(tweet_ids)\n",
        "\n",
        "#Query Twitter's API for JSON data for each tweet ID in the Twitter archive\n",
        "count = 0\n",
        "fails_dict = {}\n",
        "start = timer()\n",
        "#Save each tweet's returned JSON as a new line in a .txt file\n",
        "with open('tweet_json1.txt', 'w') as outfile:\n",
        "    #This loop will likely take 20-30 minutes to run because of Twitter's rate limit\n",
        "    for tweet_id in tweet_ids:\n",
        "        count += 1\n",
        "        print(str(count) + \": \" + str(tweet_id))\n",
        "        try:\n",
        "            tweet = api.get_status(tweet_id, tweet_mode='extended')\n",
        "            print(\"Success\")\n",
        "            json.dump(tweet._json, outfile)\n",
        "            outfile.write('\\n')\n",
        "        except tweepy.TweepError as e:\n",
        "            print(\"Fail\")\n",
        "            fails_dict[tweet_id] = e\n",
        "            pass\n",
        "end = timer()\n",
        "print(end - start)\n",
        "print(fails_dict)"
      ]
    },
    {
      "cell_type": "code",
      "metadata": {
        "id": "n1ZZjE-NPQPU",
        "outputId": "ff2489ff-175a-49b8-ba29-263537b3b952"
      },
      "source": [
        "with open('tweet_json1.txt', encoding='utf-8') as file:\n",
        "    print(len(file.readlines()))"
      ],
      "execution_count": null,
      "outputs": [
        {
          "output_type": "stream",
          "text": [
            "2331\n"
          ],
          "name": "stdout"
        }
      ]
    },
    {
      "cell_type": "markdown",
      "metadata": {
        "id": "jw3YagVGPQPV"
      },
      "source": [
        "#### So, we got 2331 rows in this json file, Now we need to convert the txt file into dataframe by reading it line by line"
      ]
    },
    {
      "cell_type": "code",
      "metadata": {
        "id": "KcF7Ni9fPQPV"
      },
      "source": [
        "df_list = []\n",
        "with open('tweet_json1.txt', 'r', encoding='utf-8') as json_file:\n",
        "    for line in json_file:\n",
        "        #adding data line by line to the dataframe\n",
        "        data = json.loads(line)\n",
        "        df_list.append(data)"
      ],
      "execution_count": null,
      "outputs": []
    },
    {
      "cell_type": "code",
      "metadata": {
        "id": "ER52E7pqPQPV",
        "outputId": "8b6be2ec-e11e-4191-bbcd-2bf0de857815"
      },
      "source": [
        "df = pd.DataFrame(df_list, columns = df_list[0].keys())\n",
        "twitter_data = df[['id', 'retweet_count', 'favorite_count', 'retweeted', 'full_text']]\n",
        "twitter_data.head()"
      ],
      "execution_count": null,
      "outputs": [
        {
          "output_type": "execute_result",
          "data": {
            "text/html": [
              "<div>\n",
              "<style scoped>\n",
              "    .dataframe tbody tr th:only-of-type {\n",
              "        vertical-align: middle;\n",
              "    }\n",
              "\n",
              "    .dataframe tbody tr th {\n",
              "        vertical-align: top;\n",
              "    }\n",
              "\n",
              "    .dataframe thead th {\n",
              "        text-align: right;\n",
              "    }\n",
              "</style>\n",
              "<table border=\"1\" class=\"dataframe\">\n",
              "  <thead>\n",
              "    <tr style=\"text-align: right;\">\n",
              "      <th></th>\n",
              "      <th>id</th>\n",
              "      <th>retweet_count</th>\n",
              "      <th>favorite_count</th>\n",
              "      <th>retweeted</th>\n",
              "      <th>full_text</th>\n",
              "    </tr>\n",
              "  </thead>\n",
              "  <tbody>\n",
              "    <tr>\n",
              "      <th>0</th>\n",
              "      <td>892420643555336193</td>\n",
              "      <td>7473</td>\n",
              "      <td>35383</td>\n",
              "      <td>False</td>\n",
              "      <td>This is Phineas. He's a mystical boy. Only eve...</td>\n",
              "    </tr>\n",
              "    <tr>\n",
              "      <th>1</th>\n",
              "      <td>892177421306343426</td>\n",
              "      <td>5547</td>\n",
              "      <td>30631</td>\n",
              "      <td>False</td>\n",
              "      <td>This is Tilly. She's just checking pup on you....</td>\n",
              "    </tr>\n",
              "    <tr>\n",
              "      <th>2</th>\n",
              "      <td>891815181378084864</td>\n",
              "      <td>3671</td>\n",
              "      <td>23037</td>\n",
              "      <td>False</td>\n",
              "      <td>This is Archie. He is a rare Norwegian Pouncin...</td>\n",
              "    </tr>\n",
              "    <tr>\n",
              "      <th>3</th>\n",
              "      <td>891689557279858688</td>\n",
              "      <td>7648</td>\n",
              "      <td>38674</td>\n",
              "      <td>False</td>\n",
              "      <td>This is Darla. She commenced a snooze mid meal...</td>\n",
              "    </tr>\n",
              "    <tr>\n",
              "      <th>4</th>\n",
              "      <td>891327558926688256</td>\n",
              "      <td>8249</td>\n",
              "      <td>36961</td>\n",
              "      <td>False</td>\n",
              "      <td>This is Franklin. He would like you to stop ca...</td>\n",
              "    </tr>\n",
              "  </tbody>\n",
              "</table>\n",
              "</div>"
            ],
            "text/plain": [
              "                   id  retweet_count  favorite_count  retweeted  \\\n",
              "0  892420643555336193           7473           35383      False   \n",
              "1  892177421306343426           5547           30631      False   \n",
              "2  891815181378084864           3671           23037      False   \n",
              "3  891689557279858688           7648           38674      False   \n",
              "4  891327558926688256           8249           36961      False   \n",
              "\n",
              "                                           full_text  \n",
              "0  This is Phineas. He's a mystical boy. Only eve...  \n",
              "1  This is Tilly. She's just checking pup on you....  \n",
              "2  This is Archie. He is a rare Norwegian Pouncin...  \n",
              "3  This is Darla. She commenced a snooze mid meal...  \n",
              "4  This is Franklin. He would like you to stop ca...  "
            ]
          },
          "metadata": {
            "tags": []
          },
          "execution_count": 8
        }
      ]
    },
    {
      "cell_type": "markdown",
      "metadata": {
        "id": "pGfjsPmdPQPV"
      },
      "source": [
        "#### Excellent, Now we have the third and final table so we can move to the next step which is data assessment"
      ]
    },
    {
      "cell_type": "markdown",
      "metadata": {
        "id": "NO2PlnDFPQPV"
      },
      "source": [
        "## <div id=assess> Step2: Assess </div>"
      ]
    },
    {
      "cell_type": "markdown",
      "metadata": {
        "id": "DbAPSuTJPQPV"
      },
      "source": [
        "#### 1- the first step in this phase is to manually inspect each dataset."
      ]
    },
    {
      "cell_type": "code",
      "metadata": {
        "id": "KR2CyO5XPQPV",
        "outputId": "cef7860c-ec99-40ef-8222-f0434c281a47"
      },
      "source": [
        "twitter_archive"
      ],
      "execution_count": null,
      "outputs": [
        {
          "output_type": "execute_result",
          "data": {
            "text/html": [
              "<div>\n",
              "<style scoped>\n",
              "    .dataframe tbody tr th:only-of-type {\n",
              "        vertical-align: middle;\n",
              "    }\n",
              "\n",
              "    .dataframe tbody tr th {\n",
              "        vertical-align: top;\n",
              "    }\n",
              "\n",
              "    .dataframe thead th {\n",
              "        text-align: right;\n",
              "    }\n",
              "</style>\n",
              "<table border=\"1\" class=\"dataframe\">\n",
              "  <thead>\n",
              "    <tr style=\"text-align: right;\">\n",
              "      <th></th>\n",
              "      <th>tweet_id</th>\n",
              "      <th>in_reply_to_status_id</th>\n",
              "      <th>in_reply_to_user_id</th>\n",
              "      <th>timestamp</th>\n",
              "      <th>source</th>\n",
              "      <th>text</th>\n",
              "      <th>retweeted_status_id</th>\n",
              "      <th>retweeted_status_user_id</th>\n",
              "      <th>retweeted_status_timestamp</th>\n",
              "      <th>expanded_urls</th>\n",
              "      <th>rating_numerator</th>\n",
              "      <th>rating_denominator</th>\n",
              "      <th>name</th>\n",
              "      <th>doggo</th>\n",
              "      <th>floofer</th>\n",
              "      <th>pupper</th>\n",
              "      <th>puppo</th>\n",
              "    </tr>\n",
              "  </thead>\n",
              "  <tbody>\n",
              "    <tr>\n",
              "      <th>0</th>\n",
              "      <td>892420643555336193</td>\n",
              "      <td>NaN</td>\n",
              "      <td>NaN</td>\n",
              "      <td>2017-08-01 16:23:56 +0000</td>\n",
              "      <td>&lt;a href=\"http://twitter.com/download/iphone\" r...</td>\n",
              "      <td>This is Phineas. He's a mystical boy. Only eve...</td>\n",
              "      <td>NaN</td>\n",
              "      <td>NaN</td>\n",
              "      <td>NaN</td>\n",
              "      <td>https://twitter.com/dog_rates/status/892420643...</td>\n",
              "      <td>13</td>\n",
              "      <td>10</td>\n",
              "      <td>Phineas</td>\n",
              "      <td>None</td>\n",
              "      <td>None</td>\n",
              "      <td>None</td>\n",
              "      <td>None</td>\n",
              "    </tr>\n",
              "    <tr>\n",
              "      <th>1</th>\n",
              "      <td>892177421306343426</td>\n",
              "      <td>NaN</td>\n",
              "      <td>NaN</td>\n",
              "      <td>2017-08-01 00:17:27 +0000</td>\n",
              "      <td>&lt;a href=\"http://twitter.com/download/iphone\" r...</td>\n",
              "      <td>This is Tilly. She's just checking pup on you....</td>\n",
              "      <td>NaN</td>\n",
              "      <td>NaN</td>\n",
              "      <td>NaN</td>\n",
              "      <td>https://twitter.com/dog_rates/status/892177421...</td>\n",
              "      <td>13</td>\n",
              "      <td>10</td>\n",
              "      <td>Tilly</td>\n",
              "      <td>None</td>\n",
              "      <td>None</td>\n",
              "      <td>None</td>\n",
              "      <td>None</td>\n",
              "    </tr>\n",
              "    <tr>\n",
              "      <th>2</th>\n",
              "      <td>891815181378084864</td>\n",
              "      <td>NaN</td>\n",
              "      <td>NaN</td>\n",
              "      <td>2017-07-31 00:18:03 +0000</td>\n",
              "      <td>&lt;a href=\"http://twitter.com/download/iphone\" r...</td>\n",
              "      <td>This is Archie. He is a rare Norwegian Pouncin...</td>\n",
              "      <td>NaN</td>\n",
              "      <td>NaN</td>\n",
              "      <td>NaN</td>\n",
              "      <td>https://twitter.com/dog_rates/status/891815181...</td>\n",
              "      <td>12</td>\n",
              "      <td>10</td>\n",
              "      <td>Archie</td>\n",
              "      <td>None</td>\n",
              "      <td>None</td>\n",
              "      <td>None</td>\n",
              "      <td>None</td>\n",
              "    </tr>\n",
              "    <tr>\n",
              "      <th>3</th>\n",
              "      <td>891689557279858688</td>\n",
              "      <td>NaN</td>\n",
              "      <td>NaN</td>\n",
              "      <td>2017-07-30 15:58:51 +0000</td>\n",
              "      <td>&lt;a href=\"http://twitter.com/download/iphone\" r...</td>\n",
              "      <td>This is Darla. She commenced a snooze mid meal...</td>\n",
              "      <td>NaN</td>\n",
              "      <td>NaN</td>\n",
              "      <td>NaN</td>\n",
              "      <td>https://twitter.com/dog_rates/status/891689557...</td>\n",
              "      <td>13</td>\n",
              "      <td>10</td>\n",
              "      <td>Darla</td>\n",
              "      <td>None</td>\n",
              "      <td>None</td>\n",
              "      <td>None</td>\n",
              "      <td>None</td>\n",
              "    </tr>\n",
              "    <tr>\n",
              "      <th>4</th>\n",
              "      <td>891327558926688256</td>\n",
              "      <td>NaN</td>\n",
              "      <td>NaN</td>\n",
              "      <td>2017-07-29 16:00:24 +0000</td>\n",
              "      <td>&lt;a href=\"http://twitter.com/download/iphone\" r...</td>\n",
              "      <td>This is Franklin. He would like you to stop ca...</td>\n",
              "      <td>NaN</td>\n",
              "      <td>NaN</td>\n",
              "      <td>NaN</td>\n",
              "      <td>https://twitter.com/dog_rates/status/891327558...</td>\n",
              "      <td>12</td>\n",
              "      <td>10</td>\n",
              "      <td>Franklin</td>\n",
              "      <td>None</td>\n",
              "      <td>None</td>\n",
              "      <td>None</td>\n",
              "      <td>None</td>\n",
              "    </tr>\n",
              "    <tr>\n",
              "      <th>...</th>\n",
              "      <td>...</td>\n",
              "      <td>...</td>\n",
              "      <td>...</td>\n",
              "      <td>...</td>\n",
              "      <td>...</td>\n",
              "      <td>...</td>\n",
              "      <td>...</td>\n",
              "      <td>...</td>\n",
              "      <td>...</td>\n",
              "      <td>...</td>\n",
              "      <td>...</td>\n",
              "      <td>...</td>\n",
              "      <td>...</td>\n",
              "      <td>...</td>\n",
              "      <td>...</td>\n",
              "      <td>...</td>\n",
              "      <td>...</td>\n",
              "    </tr>\n",
              "    <tr>\n",
              "      <th>2351</th>\n",
              "      <td>666049248165822465</td>\n",
              "      <td>NaN</td>\n",
              "      <td>NaN</td>\n",
              "      <td>2015-11-16 00:24:50 +0000</td>\n",
              "      <td>&lt;a href=\"http://twitter.com/download/iphone\" r...</td>\n",
              "      <td>Here we have a 1949 1st generation vulpix. Enj...</td>\n",
              "      <td>NaN</td>\n",
              "      <td>NaN</td>\n",
              "      <td>NaN</td>\n",
              "      <td>https://twitter.com/dog_rates/status/666049248...</td>\n",
              "      <td>5</td>\n",
              "      <td>10</td>\n",
              "      <td>None</td>\n",
              "      <td>None</td>\n",
              "      <td>None</td>\n",
              "      <td>None</td>\n",
              "      <td>None</td>\n",
              "    </tr>\n",
              "    <tr>\n",
              "      <th>2352</th>\n",
              "      <td>666044226329800704</td>\n",
              "      <td>NaN</td>\n",
              "      <td>NaN</td>\n",
              "      <td>2015-11-16 00:04:52 +0000</td>\n",
              "      <td>&lt;a href=\"http://twitter.com/download/iphone\" r...</td>\n",
              "      <td>This is a purebred Piers Morgan. Loves to Netf...</td>\n",
              "      <td>NaN</td>\n",
              "      <td>NaN</td>\n",
              "      <td>NaN</td>\n",
              "      <td>https://twitter.com/dog_rates/status/666044226...</td>\n",
              "      <td>6</td>\n",
              "      <td>10</td>\n",
              "      <td>a</td>\n",
              "      <td>None</td>\n",
              "      <td>None</td>\n",
              "      <td>None</td>\n",
              "      <td>None</td>\n",
              "    </tr>\n",
              "    <tr>\n",
              "      <th>2353</th>\n",
              "      <td>666033412701032449</td>\n",
              "      <td>NaN</td>\n",
              "      <td>NaN</td>\n",
              "      <td>2015-11-15 23:21:54 +0000</td>\n",
              "      <td>&lt;a href=\"http://twitter.com/download/iphone\" r...</td>\n",
              "      <td>Here is a very happy pup. Big fan of well-main...</td>\n",
              "      <td>NaN</td>\n",
              "      <td>NaN</td>\n",
              "      <td>NaN</td>\n",
              "      <td>https://twitter.com/dog_rates/status/666033412...</td>\n",
              "      <td>9</td>\n",
              "      <td>10</td>\n",
              "      <td>a</td>\n",
              "      <td>None</td>\n",
              "      <td>None</td>\n",
              "      <td>None</td>\n",
              "      <td>None</td>\n",
              "    </tr>\n",
              "    <tr>\n",
              "      <th>2354</th>\n",
              "      <td>666029285002620928</td>\n",
              "      <td>NaN</td>\n",
              "      <td>NaN</td>\n",
              "      <td>2015-11-15 23:05:30 +0000</td>\n",
              "      <td>&lt;a href=\"http://twitter.com/download/iphone\" r...</td>\n",
              "      <td>This is a western brown Mitsubishi terrier. Up...</td>\n",
              "      <td>NaN</td>\n",
              "      <td>NaN</td>\n",
              "      <td>NaN</td>\n",
              "      <td>https://twitter.com/dog_rates/status/666029285...</td>\n",
              "      <td>7</td>\n",
              "      <td>10</td>\n",
              "      <td>a</td>\n",
              "      <td>None</td>\n",
              "      <td>None</td>\n",
              "      <td>None</td>\n",
              "      <td>None</td>\n",
              "    </tr>\n",
              "    <tr>\n",
              "      <th>2355</th>\n",
              "      <td>666020888022790149</td>\n",
              "      <td>NaN</td>\n",
              "      <td>NaN</td>\n",
              "      <td>2015-11-15 22:32:08 +0000</td>\n",
              "      <td>&lt;a href=\"http://twitter.com/download/iphone\" r...</td>\n",
              "      <td>Here we have a Japanese Irish Setter. Lost eye...</td>\n",
              "      <td>NaN</td>\n",
              "      <td>NaN</td>\n",
              "      <td>NaN</td>\n",
              "      <td>https://twitter.com/dog_rates/status/666020888...</td>\n",
              "      <td>8</td>\n",
              "      <td>10</td>\n",
              "      <td>None</td>\n",
              "      <td>None</td>\n",
              "      <td>None</td>\n",
              "      <td>None</td>\n",
              "      <td>None</td>\n",
              "    </tr>\n",
              "  </tbody>\n",
              "</table>\n",
              "<p>2356 rows × 17 columns</p>\n",
              "</div>"
            ],
            "text/plain": [
              "                tweet_id  in_reply_to_status_id  in_reply_to_user_id  \\\n",
              "0     892420643555336193                    NaN                  NaN   \n",
              "1     892177421306343426                    NaN                  NaN   \n",
              "2     891815181378084864                    NaN                  NaN   \n",
              "3     891689557279858688                    NaN                  NaN   \n",
              "4     891327558926688256                    NaN                  NaN   \n",
              "...                  ...                    ...                  ...   \n",
              "2351  666049248165822465                    NaN                  NaN   \n",
              "2352  666044226329800704                    NaN                  NaN   \n",
              "2353  666033412701032449                    NaN                  NaN   \n",
              "2354  666029285002620928                    NaN                  NaN   \n",
              "2355  666020888022790149                    NaN                  NaN   \n",
              "\n",
              "                      timestamp  \\\n",
              "0     2017-08-01 16:23:56 +0000   \n",
              "1     2017-08-01 00:17:27 +0000   \n",
              "2     2017-07-31 00:18:03 +0000   \n",
              "3     2017-07-30 15:58:51 +0000   \n",
              "4     2017-07-29 16:00:24 +0000   \n",
              "...                         ...   \n",
              "2351  2015-11-16 00:24:50 +0000   \n",
              "2352  2015-11-16 00:04:52 +0000   \n",
              "2353  2015-11-15 23:21:54 +0000   \n",
              "2354  2015-11-15 23:05:30 +0000   \n",
              "2355  2015-11-15 22:32:08 +0000   \n",
              "\n",
              "                                                 source  \\\n",
              "0     <a href=\"http://twitter.com/download/iphone\" r...   \n",
              "1     <a href=\"http://twitter.com/download/iphone\" r...   \n",
              "2     <a href=\"http://twitter.com/download/iphone\" r...   \n",
              "3     <a href=\"http://twitter.com/download/iphone\" r...   \n",
              "4     <a href=\"http://twitter.com/download/iphone\" r...   \n",
              "...                                                 ...   \n",
              "2351  <a href=\"http://twitter.com/download/iphone\" r...   \n",
              "2352  <a href=\"http://twitter.com/download/iphone\" r...   \n",
              "2353  <a href=\"http://twitter.com/download/iphone\" r...   \n",
              "2354  <a href=\"http://twitter.com/download/iphone\" r...   \n",
              "2355  <a href=\"http://twitter.com/download/iphone\" r...   \n",
              "\n",
              "                                                   text  retweeted_status_id  \\\n",
              "0     This is Phineas. He's a mystical boy. Only eve...                  NaN   \n",
              "1     This is Tilly. She's just checking pup on you....                  NaN   \n",
              "2     This is Archie. He is a rare Norwegian Pouncin...                  NaN   \n",
              "3     This is Darla. She commenced a snooze mid meal...                  NaN   \n",
              "4     This is Franklin. He would like you to stop ca...                  NaN   \n",
              "...                                                 ...                  ...   \n",
              "2351  Here we have a 1949 1st generation vulpix. Enj...                  NaN   \n",
              "2352  This is a purebred Piers Morgan. Loves to Netf...                  NaN   \n",
              "2353  Here is a very happy pup. Big fan of well-main...                  NaN   \n",
              "2354  This is a western brown Mitsubishi terrier. Up...                  NaN   \n",
              "2355  Here we have a Japanese Irish Setter. Lost eye...                  NaN   \n",
              "\n",
              "      retweeted_status_user_id retweeted_status_timestamp  \\\n",
              "0                          NaN                        NaN   \n",
              "1                          NaN                        NaN   \n",
              "2                          NaN                        NaN   \n",
              "3                          NaN                        NaN   \n",
              "4                          NaN                        NaN   \n",
              "...                        ...                        ...   \n",
              "2351                       NaN                        NaN   \n",
              "2352                       NaN                        NaN   \n",
              "2353                       NaN                        NaN   \n",
              "2354                       NaN                        NaN   \n",
              "2355                       NaN                        NaN   \n",
              "\n",
              "                                          expanded_urls  rating_numerator  \\\n",
              "0     https://twitter.com/dog_rates/status/892420643...                13   \n",
              "1     https://twitter.com/dog_rates/status/892177421...                13   \n",
              "2     https://twitter.com/dog_rates/status/891815181...                12   \n",
              "3     https://twitter.com/dog_rates/status/891689557...                13   \n",
              "4     https://twitter.com/dog_rates/status/891327558...                12   \n",
              "...                                                 ...               ...   \n",
              "2351  https://twitter.com/dog_rates/status/666049248...                 5   \n",
              "2352  https://twitter.com/dog_rates/status/666044226...                 6   \n",
              "2353  https://twitter.com/dog_rates/status/666033412...                 9   \n",
              "2354  https://twitter.com/dog_rates/status/666029285...                 7   \n",
              "2355  https://twitter.com/dog_rates/status/666020888...                 8   \n",
              "\n",
              "      rating_denominator      name doggo floofer pupper puppo  \n",
              "0                     10   Phineas  None    None   None  None  \n",
              "1                     10     Tilly  None    None   None  None  \n",
              "2                     10    Archie  None    None   None  None  \n",
              "3                     10     Darla  None    None   None  None  \n",
              "4                     10  Franklin  None    None   None  None  \n",
              "...                  ...       ...   ...     ...    ...   ...  \n",
              "2351                  10      None  None    None   None  None  \n",
              "2352                  10         a  None    None   None  None  \n",
              "2353                  10         a  None    None   None  None  \n",
              "2354                  10         a  None    None   None  None  \n",
              "2355                  10      None  None    None   None  None  \n",
              "\n",
              "[2356 rows x 17 columns]"
            ]
          },
          "metadata": {
            "tags": []
          },
          "execution_count": 9
        }
      ]
    },
    {
      "cell_type": "code",
      "metadata": {
        "scrolled": true,
        "id": "hnf1Z2VBPQPV",
        "outputId": "b1b80ab7-7d79-471a-8e90-c2e0391303fc"
      },
      "source": [
        "image_predict"
      ],
      "execution_count": null,
      "outputs": [
        {
          "output_type": "execute_result",
          "data": {
            "text/html": [
              "<div>\n",
              "<style scoped>\n",
              "    .dataframe tbody tr th:only-of-type {\n",
              "        vertical-align: middle;\n",
              "    }\n",
              "\n",
              "    .dataframe tbody tr th {\n",
              "        vertical-align: top;\n",
              "    }\n",
              "\n",
              "    .dataframe thead th {\n",
              "        text-align: right;\n",
              "    }\n",
              "</style>\n",
              "<table border=\"1\" class=\"dataframe\">\n",
              "  <thead>\n",
              "    <tr style=\"text-align: right;\">\n",
              "      <th></th>\n",
              "      <th>tweet_id</th>\n",
              "      <th>jpg_url</th>\n",
              "      <th>img_num</th>\n",
              "      <th>p1</th>\n",
              "      <th>p1_conf</th>\n",
              "      <th>p1_dog</th>\n",
              "      <th>p2</th>\n",
              "      <th>p2_conf</th>\n",
              "      <th>p2_dog</th>\n",
              "      <th>p3</th>\n",
              "      <th>p3_conf</th>\n",
              "      <th>p3_dog</th>\n",
              "    </tr>\n",
              "  </thead>\n",
              "  <tbody>\n",
              "    <tr>\n",
              "      <th>0</th>\n",
              "      <td>666020888022790149</td>\n",
              "      <td>https://pbs.twimg.com/media/CT4udn0WwAA0aMy.jpg</td>\n",
              "      <td>1</td>\n",
              "      <td>Welsh_springer_spaniel</td>\n",
              "      <td>0.465074</td>\n",
              "      <td>True</td>\n",
              "      <td>collie</td>\n",
              "      <td>0.156665</td>\n",
              "      <td>True</td>\n",
              "      <td>Shetland_sheepdog</td>\n",
              "      <td>0.061428</td>\n",
              "      <td>True</td>\n",
              "    </tr>\n",
              "    <tr>\n",
              "      <th>1</th>\n",
              "      <td>666029285002620928</td>\n",
              "      <td>https://pbs.twimg.com/media/CT42GRgUYAA5iDo.jpg</td>\n",
              "      <td>1</td>\n",
              "      <td>redbone</td>\n",
              "      <td>0.506826</td>\n",
              "      <td>True</td>\n",
              "      <td>miniature_pinscher</td>\n",
              "      <td>0.074192</td>\n",
              "      <td>True</td>\n",
              "      <td>Rhodesian_ridgeback</td>\n",
              "      <td>0.072010</td>\n",
              "      <td>True</td>\n",
              "    </tr>\n",
              "    <tr>\n",
              "      <th>2</th>\n",
              "      <td>666033412701032449</td>\n",
              "      <td>https://pbs.twimg.com/media/CT4521TWwAEvMyu.jpg</td>\n",
              "      <td>1</td>\n",
              "      <td>German_shepherd</td>\n",
              "      <td>0.596461</td>\n",
              "      <td>True</td>\n",
              "      <td>malinois</td>\n",
              "      <td>0.138584</td>\n",
              "      <td>True</td>\n",
              "      <td>bloodhound</td>\n",
              "      <td>0.116197</td>\n",
              "      <td>True</td>\n",
              "    </tr>\n",
              "    <tr>\n",
              "      <th>3</th>\n",
              "      <td>666044226329800704</td>\n",
              "      <td>https://pbs.twimg.com/media/CT5Dr8HUEAA-lEu.jpg</td>\n",
              "      <td>1</td>\n",
              "      <td>Rhodesian_ridgeback</td>\n",
              "      <td>0.408143</td>\n",
              "      <td>True</td>\n",
              "      <td>redbone</td>\n",
              "      <td>0.360687</td>\n",
              "      <td>True</td>\n",
              "      <td>miniature_pinscher</td>\n",
              "      <td>0.222752</td>\n",
              "      <td>True</td>\n",
              "    </tr>\n",
              "    <tr>\n",
              "      <th>4</th>\n",
              "      <td>666049248165822465</td>\n",
              "      <td>https://pbs.twimg.com/media/CT5IQmsXIAAKY4A.jpg</td>\n",
              "      <td>1</td>\n",
              "      <td>miniature_pinscher</td>\n",
              "      <td>0.560311</td>\n",
              "      <td>True</td>\n",
              "      <td>Rottweiler</td>\n",
              "      <td>0.243682</td>\n",
              "      <td>True</td>\n",
              "      <td>Doberman</td>\n",
              "      <td>0.154629</td>\n",
              "      <td>True</td>\n",
              "    </tr>\n",
              "    <tr>\n",
              "      <th>...</th>\n",
              "      <td>...</td>\n",
              "      <td>...</td>\n",
              "      <td>...</td>\n",
              "      <td>...</td>\n",
              "      <td>...</td>\n",
              "      <td>...</td>\n",
              "      <td>...</td>\n",
              "      <td>...</td>\n",
              "      <td>...</td>\n",
              "      <td>...</td>\n",
              "      <td>...</td>\n",
              "      <td>...</td>\n",
              "    </tr>\n",
              "    <tr>\n",
              "      <th>2070</th>\n",
              "      <td>891327558926688256</td>\n",
              "      <td>https://pbs.twimg.com/media/DF6hr6BUMAAzZgT.jpg</td>\n",
              "      <td>2</td>\n",
              "      <td>basset</td>\n",
              "      <td>0.555712</td>\n",
              "      <td>True</td>\n",
              "      <td>English_springer</td>\n",
              "      <td>0.225770</td>\n",
              "      <td>True</td>\n",
              "      <td>German_short-haired_pointer</td>\n",
              "      <td>0.175219</td>\n",
              "      <td>True</td>\n",
              "    </tr>\n",
              "    <tr>\n",
              "      <th>2071</th>\n",
              "      <td>891689557279858688</td>\n",
              "      <td>https://pbs.twimg.com/media/DF_q7IAWsAEuuN8.jpg</td>\n",
              "      <td>1</td>\n",
              "      <td>paper_towel</td>\n",
              "      <td>0.170278</td>\n",
              "      <td>False</td>\n",
              "      <td>Labrador_retriever</td>\n",
              "      <td>0.168086</td>\n",
              "      <td>True</td>\n",
              "      <td>spatula</td>\n",
              "      <td>0.040836</td>\n",
              "      <td>False</td>\n",
              "    </tr>\n",
              "    <tr>\n",
              "      <th>2072</th>\n",
              "      <td>891815181378084864</td>\n",
              "      <td>https://pbs.twimg.com/media/DGBdLU1WsAANxJ9.jpg</td>\n",
              "      <td>1</td>\n",
              "      <td>Chihuahua</td>\n",
              "      <td>0.716012</td>\n",
              "      <td>True</td>\n",
              "      <td>malamute</td>\n",
              "      <td>0.078253</td>\n",
              "      <td>True</td>\n",
              "      <td>kelpie</td>\n",
              "      <td>0.031379</td>\n",
              "      <td>True</td>\n",
              "    </tr>\n",
              "    <tr>\n",
              "      <th>2073</th>\n",
              "      <td>892177421306343426</td>\n",
              "      <td>https://pbs.twimg.com/media/DGGmoV4XsAAUL6n.jpg</td>\n",
              "      <td>1</td>\n",
              "      <td>Chihuahua</td>\n",
              "      <td>0.323581</td>\n",
              "      <td>True</td>\n",
              "      <td>Pekinese</td>\n",
              "      <td>0.090647</td>\n",
              "      <td>True</td>\n",
              "      <td>papillon</td>\n",
              "      <td>0.068957</td>\n",
              "      <td>True</td>\n",
              "    </tr>\n",
              "    <tr>\n",
              "      <th>2074</th>\n",
              "      <td>892420643555336193</td>\n",
              "      <td>https://pbs.twimg.com/media/DGKD1-bXoAAIAUK.jpg</td>\n",
              "      <td>1</td>\n",
              "      <td>orange</td>\n",
              "      <td>0.097049</td>\n",
              "      <td>False</td>\n",
              "      <td>bagel</td>\n",
              "      <td>0.085851</td>\n",
              "      <td>False</td>\n",
              "      <td>banana</td>\n",
              "      <td>0.076110</td>\n",
              "      <td>False</td>\n",
              "    </tr>\n",
              "  </tbody>\n",
              "</table>\n",
              "<p>2075 rows × 12 columns</p>\n",
              "</div>"
            ],
            "text/plain": [
              "                tweet_id                                          jpg_url  \\\n",
              "0     666020888022790149  https://pbs.twimg.com/media/CT4udn0WwAA0aMy.jpg   \n",
              "1     666029285002620928  https://pbs.twimg.com/media/CT42GRgUYAA5iDo.jpg   \n",
              "2     666033412701032449  https://pbs.twimg.com/media/CT4521TWwAEvMyu.jpg   \n",
              "3     666044226329800704  https://pbs.twimg.com/media/CT5Dr8HUEAA-lEu.jpg   \n",
              "4     666049248165822465  https://pbs.twimg.com/media/CT5IQmsXIAAKY4A.jpg   \n",
              "...                  ...                                              ...   \n",
              "2070  891327558926688256  https://pbs.twimg.com/media/DF6hr6BUMAAzZgT.jpg   \n",
              "2071  891689557279858688  https://pbs.twimg.com/media/DF_q7IAWsAEuuN8.jpg   \n",
              "2072  891815181378084864  https://pbs.twimg.com/media/DGBdLU1WsAANxJ9.jpg   \n",
              "2073  892177421306343426  https://pbs.twimg.com/media/DGGmoV4XsAAUL6n.jpg   \n",
              "2074  892420643555336193  https://pbs.twimg.com/media/DGKD1-bXoAAIAUK.jpg   \n",
              "\n",
              "      img_num                      p1   p1_conf  p1_dog                  p2  \\\n",
              "0           1  Welsh_springer_spaniel  0.465074    True              collie   \n",
              "1           1                 redbone  0.506826    True  miniature_pinscher   \n",
              "2           1         German_shepherd  0.596461    True            malinois   \n",
              "3           1     Rhodesian_ridgeback  0.408143    True             redbone   \n",
              "4           1      miniature_pinscher  0.560311    True          Rottweiler   \n",
              "...       ...                     ...       ...     ...                 ...   \n",
              "2070        2                  basset  0.555712    True    English_springer   \n",
              "2071        1             paper_towel  0.170278   False  Labrador_retriever   \n",
              "2072        1               Chihuahua  0.716012    True            malamute   \n",
              "2073        1               Chihuahua  0.323581    True            Pekinese   \n",
              "2074        1                  orange  0.097049   False               bagel   \n",
              "\n",
              "       p2_conf  p2_dog                           p3   p3_conf  p3_dog  \n",
              "0     0.156665    True            Shetland_sheepdog  0.061428    True  \n",
              "1     0.074192    True          Rhodesian_ridgeback  0.072010    True  \n",
              "2     0.138584    True                   bloodhound  0.116197    True  \n",
              "3     0.360687    True           miniature_pinscher  0.222752    True  \n",
              "4     0.243682    True                     Doberman  0.154629    True  \n",
              "...        ...     ...                          ...       ...     ...  \n",
              "2070  0.225770    True  German_short-haired_pointer  0.175219    True  \n",
              "2071  0.168086    True                      spatula  0.040836   False  \n",
              "2072  0.078253    True                       kelpie  0.031379    True  \n",
              "2073  0.090647    True                     papillon  0.068957    True  \n",
              "2074  0.085851   False                       banana  0.076110   False  \n",
              "\n",
              "[2075 rows x 12 columns]"
            ]
          },
          "metadata": {
            "tags": []
          },
          "execution_count": 10
        }
      ]
    },
    {
      "cell_type": "code",
      "metadata": {
        "id": "ULFZ6xkuPQPV",
        "outputId": "28c6be09-5f6f-4bf6-d2b6-8b63f6d25c33"
      },
      "source": [
        "twitter_data"
      ],
      "execution_count": null,
      "outputs": [
        {
          "output_type": "execute_result",
          "data": {
            "text/html": [
              "<div>\n",
              "<style scoped>\n",
              "    .dataframe tbody tr th:only-of-type {\n",
              "        vertical-align: middle;\n",
              "    }\n",
              "\n",
              "    .dataframe tbody tr th {\n",
              "        vertical-align: top;\n",
              "    }\n",
              "\n",
              "    .dataframe thead th {\n",
              "        text-align: right;\n",
              "    }\n",
              "</style>\n",
              "<table border=\"1\" class=\"dataframe\">\n",
              "  <thead>\n",
              "    <tr style=\"text-align: right;\">\n",
              "      <th></th>\n",
              "      <th>id</th>\n",
              "      <th>retweet_count</th>\n",
              "      <th>favorite_count</th>\n",
              "      <th>retweeted</th>\n",
              "      <th>full_text</th>\n",
              "    </tr>\n",
              "  </thead>\n",
              "  <tbody>\n",
              "    <tr>\n",
              "      <th>0</th>\n",
              "      <td>892420643555336193</td>\n",
              "      <td>7473</td>\n",
              "      <td>35383</td>\n",
              "      <td>False</td>\n",
              "      <td>This is Phineas. He's a mystical boy. Only eve...</td>\n",
              "    </tr>\n",
              "    <tr>\n",
              "      <th>1</th>\n",
              "      <td>892177421306343426</td>\n",
              "      <td>5547</td>\n",
              "      <td>30631</td>\n",
              "      <td>False</td>\n",
              "      <td>This is Tilly. She's just checking pup on you....</td>\n",
              "    </tr>\n",
              "    <tr>\n",
              "      <th>2</th>\n",
              "      <td>891815181378084864</td>\n",
              "      <td>3671</td>\n",
              "      <td>23037</td>\n",
              "      <td>False</td>\n",
              "      <td>This is Archie. He is a rare Norwegian Pouncin...</td>\n",
              "    </tr>\n",
              "    <tr>\n",
              "      <th>3</th>\n",
              "      <td>891689557279858688</td>\n",
              "      <td>7648</td>\n",
              "      <td>38674</td>\n",
              "      <td>False</td>\n",
              "      <td>This is Darla. She commenced a snooze mid meal...</td>\n",
              "    </tr>\n",
              "    <tr>\n",
              "      <th>4</th>\n",
              "      <td>891327558926688256</td>\n",
              "      <td>8249</td>\n",
              "      <td>36961</td>\n",
              "      <td>False</td>\n",
              "      <td>This is Franklin. He would like you to stop ca...</td>\n",
              "    </tr>\n",
              "    <tr>\n",
              "      <th>...</th>\n",
              "      <td>...</td>\n",
              "      <td>...</td>\n",
              "      <td>...</td>\n",
              "      <td>...</td>\n",
              "      <td>...</td>\n",
              "    </tr>\n",
              "    <tr>\n",
              "      <th>2326</th>\n",
              "      <td>666049248165822465</td>\n",
              "      <td>39</td>\n",
              "      <td>96</td>\n",
              "      <td>False</td>\n",
              "      <td>Here we have a 1949 1st generation vulpix. Enj...</td>\n",
              "    </tr>\n",
              "    <tr>\n",
              "      <th>2327</th>\n",
              "      <td>666044226329800704</td>\n",
              "      <td>124</td>\n",
              "      <td>265</td>\n",
              "      <td>False</td>\n",
              "      <td>This is a purebred Piers Morgan. Loves to Netf...</td>\n",
              "    </tr>\n",
              "    <tr>\n",
              "      <th>2328</th>\n",
              "      <td>666033412701032449</td>\n",
              "      <td>39</td>\n",
              "      <td>109</td>\n",
              "      <td>False</td>\n",
              "      <td>Here is a very happy pup. Big fan of well-main...</td>\n",
              "    </tr>\n",
              "    <tr>\n",
              "      <th>2329</th>\n",
              "      <td>666029285002620928</td>\n",
              "      <td>41</td>\n",
              "      <td>119</td>\n",
              "      <td>False</td>\n",
              "      <td>This is a western brown Mitsubishi terrier. Up...</td>\n",
              "    </tr>\n",
              "    <tr>\n",
              "      <th>2330</th>\n",
              "      <td>666020888022790149</td>\n",
              "      <td>448</td>\n",
              "      <td>2355</td>\n",
              "      <td>False</td>\n",
              "      <td>Here we have a Japanese Irish Setter. Lost eye...</td>\n",
              "    </tr>\n",
              "  </tbody>\n",
              "</table>\n",
              "<p>2331 rows × 5 columns</p>\n",
              "</div>"
            ],
            "text/plain": [
              "                      id  retweet_count  favorite_count  retweeted  \\\n",
              "0     892420643555336193           7473           35383      False   \n",
              "1     892177421306343426           5547           30631      False   \n",
              "2     891815181378084864           3671           23037      False   \n",
              "3     891689557279858688           7648           38674      False   \n",
              "4     891327558926688256           8249           36961      False   \n",
              "...                  ...            ...             ...        ...   \n",
              "2326  666049248165822465             39              96      False   \n",
              "2327  666044226329800704            124             265      False   \n",
              "2328  666033412701032449             39             109      False   \n",
              "2329  666029285002620928             41             119      False   \n",
              "2330  666020888022790149            448            2355      False   \n",
              "\n",
              "                                              full_text  \n",
              "0     This is Phineas. He's a mystical boy. Only eve...  \n",
              "1     This is Tilly. She's just checking pup on you....  \n",
              "2     This is Archie. He is a rare Norwegian Pouncin...  \n",
              "3     This is Darla. She commenced a snooze mid meal...  \n",
              "4     This is Franklin. He would like you to stop ca...  \n",
              "...                                                 ...  \n",
              "2326  Here we have a 1949 1st generation vulpix. Enj...  \n",
              "2327  This is a purebred Piers Morgan. Loves to Netf...  \n",
              "2328  Here is a very happy pup. Big fan of well-main...  \n",
              "2329  This is a western brown Mitsubishi terrier. Up...  \n",
              "2330  Here we have a Japanese Irish Setter. Lost eye...  \n",
              "\n",
              "[2331 rows x 5 columns]"
            ]
          },
          "metadata": {
            "tags": []
          },
          "execution_count": 11
        }
      ]
    },
    {
      "cell_type": "code",
      "metadata": {
        "id": "LxQ_ALkIPQPW",
        "outputId": "46207d23-5f04-4295-ab8b-29402930fe01"
      },
      "source": [
        "twitter_archive.info()"
      ],
      "execution_count": null,
      "outputs": [
        {
          "output_type": "stream",
          "text": [
            "<class 'pandas.core.frame.DataFrame'>\n",
            "RangeIndex: 2356 entries, 0 to 2355\n",
            "Data columns (total 17 columns):\n",
            " #   Column                      Non-Null Count  Dtype  \n",
            "---  ------                      --------------  -----  \n",
            " 0   tweet_id                    2356 non-null   int64  \n",
            " 1   in_reply_to_status_id       78 non-null     float64\n",
            " 2   in_reply_to_user_id         78 non-null     float64\n",
            " 3   timestamp                   2356 non-null   object \n",
            " 4   source                      2356 non-null   object \n",
            " 5   text                        2356 non-null   object \n",
            " 6   retweeted_status_id         181 non-null    float64\n",
            " 7   retweeted_status_user_id    181 non-null    float64\n",
            " 8   retweeted_status_timestamp  181 non-null    object \n",
            " 9   expanded_urls               2297 non-null   object \n",
            " 10  rating_numerator            2356 non-null   int64  \n",
            " 11  rating_denominator          2356 non-null   int64  \n",
            " 12  name                        2356 non-null   object \n",
            " 13  doggo                       2356 non-null   object \n",
            " 14  floofer                     2356 non-null   object \n",
            " 15  pupper                      2356 non-null   object \n",
            " 16  puppo                       2356 non-null   object \n",
            "dtypes: float64(4), int64(3), object(10)\n",
            "memory usage: 313.0+ KB\n"
          ],
          "name": "stdout"
        }
      ]
    },
    {
      "cell_type": "code",
      "metadata": {
        "id": "cMvC1wBOPQPW",
        "outputId": "308f5366-a6a4-4a8d-b8e4-47da6555a7c6"
      },
      "source": [
        "image_predict.info()"
      ],
      "execution_count": null,
      "outputs": [
        {
          "output_type": "stream",
          "text": [
            "<class 'pandas.core.frame.DataFrame'>\n",
            "RangeIndex: 2075 entries, 0 to 2074\n",
            "Data columns (total 12 columns):\n",
            " #   Column    Non-Null Count  Dtype  \n",
            "---  ------    --------------  -----  \n",
            " 0   tweet_id  2075 non-null   int64  \n",
            " 1   jpg_url   2075 non-null   object \n",
            " 2   img_num   2075 non-null   int64  \n",
            " 3   p1        2075 non-null   object \n",
            " 4   p1_conf   2075 non-null   float64\n",
            " 5   p1_dog    2075 non-null   bool   \n",
            " 6   p2        2075 non-null   object \n",
            " 7   p2_conf   2075 non-null   float64\n",
            " 8   p2_dog    2075 non-null   bool   \n",
            " 9   p3        2075 non-null   object \n",
            " 10  p3_conf   2075 non-null   float64\n",
            " 11  p3_dog    2075 non-null   bool   \n",
            "dtypes: bool(3), float64(3), int64(2), object(4)\n",
            "memory usage: 152.1+ KB\n"
          ],
          "name": "stdout"
        }
      ]
    },
    {
      "cell_type": "code",
      "metadata": {
        "id": "Ei606IaHPQPW",
        "outputId": "3f2779f8-e399-4c9d-867b-749d23447ecb"
      },
      "source": [
        "twitter_data.info()"
      ],
      "execution_count": null,
      "outputs": [
        {
          "output_type": "stream",
          "text": [
            "<class 'pandas.core.frame.DataFrame'>\n",
            "RangeIndex: 2331 entries, 0 to 2330\n",
            "Data columns (total 5 columns):\n",
            " #   Column          Non-Null Count  Dtype \n",
            "---  ------          --------------  ----- \n",
            " 0   id              2331 non-null   int64 \n",
            " 1   retweet_count   2331 non-null   int64 \n",
            " 2   favorite_count  2331 non-null   int64 \n",
            " 3   retweeted       2331 non-null   bool  \n",
            " 4   full_text       2331 non-null   object\n",
            "dtypes: bool(1), int64(3), object(1)\n",
            "memory usage: 75.2+ KB\n"
          ],
          "name": "stdout"
        }
      ]
    },
    {
      "cell_type": "code",
      "metadata": {
        "scrolled": true,
        "id": "UXqZExIcPQPW",
        "outputId": "b51201bb-04b5-4fe0-9f26-ae60be579d87"
      },
      "source": [
        "twitter_archive.describe()"
      ],
      "execution_count": null,
      "outputs": [
        {
          "output_type": "execute_result",
          "data": {
            "text/html": [
              "<div>\n",
              "<style scoped>\n",
              "    .dataframe tbody tr th:only-of-type {\n",
              "        vertical-align: middle;\n",
              "    }\n",
              "\n",
              "    .dataframe tbody tr th {\n",
              "        vertical-align: top;\n",
              "    }\n",
              "\n",
              "    .dataframe thead th {\n",
              "        text-align: right;\n",
              "    }\n",
              "</style>\n",
              "<table border=\"1\" class=\"dataframe\">\n",
              "  <thead>\n",
              "    <tr style=\"text-align: right;\">\n",
              "      <th></th>\n",
              "      <th>tweet_id</th>\n",
              "      <th>in_reply_to_status_id</th>\n",
              "      <th>in_reply_to_user_id</th>\n",
              "      <th>retweeted_status_id</th>\n",
              "      <th>retweeted_status_user_id</th>\n",
              "      <th>rating_numerator</th>\n",
              "      <th>rating_denominator</th>\n",
              "    </tr>\n",
              "  </thead>\n",
              "  <tbody>\n",
              "    <tr>\n",
              "      <th>count</th>\n",
              "      <td>2.356000e+03</td>\n",
              "      <td>7.800000e+01</td>\n",
              "      <td>7.800000e+01</td>\n",
              "      <td>1.810000e+02</td>\n",
              "      <td>1.810000e+02</td>\n",
              "      <td>2356.000000</td>\n",
              "      <td>2356.000000</td>\n",
              "    </tr>\n",
              "    <tr>\n",
              "      <th>mean</th>\n",
              "      <td>7.427716e+17</td>\n",
              "      <td>7.455079e+17</td>\n",
              "      <td>2.014171e+16</td>\n",
              "      <td>7.720400e+17</td>\n",
              "      <td>1.241698e+16</td>\n",
              "      <td>13.126486</td>\n",
              "      <td>10.455433</td>\n",
              "    </tr>\n",
              "    <tr>\n",
              "      <th>std</th>\n",
              "      <td>6.856705e+16</td>\n",
              "      <td>7.582492e+16</td>\n",
              "      <td>1.252797e+17</td>\n",
              "      <td>6.236928e+16</td>\n",
              "      <td>9.599254e+16</td>\n",
              "      <td>45.876648</td>\n",
              "      <td>6.745237</td>\n",
              "    </tr>\n",
              "    <tr>\n",
              "      <th>min</th>\n",
              "      <td>6.660209e+17</td>\n",
              "      <td>6.658147e+17</td>\n",
              "      <td>1.185634e+07</td>\n",
              "      <td>6.661041e+17</td>\n",
              "      <td>7.832140e+05</td>\n",
              "      <td>0.000000</td>\n",
              "      <td>0.000000</td>\n",
              "    </tr>\n",
              "    <tr>\n",
              "      <th>25%</th>\n",
              "      <td>6.783989e+17</td>\n",
              "      <td>6.757419e+17</td>\n",
              "      <td>3.086374e+08</td>\n",
              "      <td>7.186315e+17</td>\n",
              "      <td>4.196984e+09</td>\n",
              "      <td>10.000000</td>\n",
              "      <td>10.000000</td>\n",
              "    </tr>\n",
              "    <tr>\n",
              "      <th>50%</th>\n",
              "      <td>7.196279e+17</td>\n",
              "      <td>7.038708e+17</td>\n",
              "      <td>4.196984e+09</td>\n",
              "      <td>7.804657e+17</td>\n",
              "      <td>4.196984e+09</td>\n",
              "      <td>11.000000</td>\n",
              "      <td>10.000000</td>\n",
              "    </tr>\n",
              "    <tr>\n",
              "      <th>75%</th>\n",
              "      <td>7.993373e+17</td>\n",
              "      <td>8.257804e+17</td>\n",
              "      <td>4.196984e+09</td>\n",
              "      <td>8.203146e+17</td>\n",
              "      <td>4.196984e+09</td>\n",
              "      <td>12.000000</td>\n",
              "      <td>10.000000</td>\n",
              "    </tr>\n",
              "    <tr>\n",
              "      <th>max</th>\n",
              "      <td>8.924206e+17</td>\n",
              "      <td>8.862664e+17</td>\n",
              "      <td>8.405479e+17</td>\n",
              "      <td>8.874740e+17</td>\n",
              "      <td>7.874618e+17</td>\n",
              "      <td>1776.000000</td>\n",
              "      <td>170.000000</td>\n",
              "    </tr>\n",
              "  </tbody>\n",
              "</table>\n",
              "</div>"
            ],
            "text/plain": [
              "           tweet_id  in_reply_to_status_id  in_reply_to_user_id  \\\n",
              "count  2.356000e+03           7.800000e+01         7.800000e+01   \n",
              "mean   7.427716e+17           7.455079e+17         2.014171e+16   \n",
              "std    6.856705e+16           7.582492e+16         1.252797e+17   \n",
              "min    6.660209e+17           6.658147e+17         1.185634e+07   \n",
              "25%    6.783989e+17           6.757419e+17         3.086374e+08   \n",
              "50%    7.196279e+17           7.038708e+17         4.196984e+09   \n",
              "75%    7.993373e+17           8.257804e+17         4.196984e+09   \n",
              "max    8.924206e+17           8.862664e+17         8.405479e+17   \n",
              "\n",
              "       retweeted_status_id  retweeted_status_user_id  rating_numerator  \\\n",
              "count         1.810000e+02              1.810000e+02       2356.000000   \n",
              "mean          7.720400e+17              1.241698e+16         13.126486   \n",
              "std           6.236928e+16              9.599254e+16         45.876648   \n",
              "min           6.661041e+17              7.832140e+05          0.000000   \n",
              "25%           7.186315e+17              4.196984e+09         10.000000   \n",
              "50%           7.804657e+17              4.196984e+09         11.000000   \n",
              "75%           8.203146e+17              4.196984e+09         12.000000   \n",
              "max           8.874740e+17              7.874618e+17       1776.000000   \n",
              "\n",
              "       rating_denominator  \n",
              "count         2356.000000  \n",
              "mean            10.455433  \n",
              "std              6.745237  \n",
              "min              0.000000  \n",
              "25%             10.000000  \n",
              "50%             10.000000  \n",
              "75%             10.000000  \n",
              "max            170.000000  "
            ]
          },
          "metadata": {
            "tags": []
          },
          "execution_count": 15
        }
      ]
    },
    {
      "cell_type": "code",
      "metadata": {
        "id": "F2soGqxSPQPW",
        "outputId": "387ca3ac-d24f-4801-f0e1-5b9782bebedd"
      },
      "source": [
        "twitter_archive.rating_numerator.sort_values()"
      ],
      "execution_count": null,
      "outputs": [
        {
          "output_type": "execute_result",
          "data": {
            "text/plain": [
              "315        0\n",
              "1016       0\n",
              "2335       1\n",
              "2261       1\n",
              "2338       1\n",
              "        ... \n",
              "2074     420\n",
              "188      420\n",
              "189      666\n",
              "313      960\n",
              "979     1776\n",
              "Name: rating_numerator, Length: 2356, dtype: int64"
            ]
          },
          "metadata": {
            "tags": []
          },
          "execution_count": 16
        }
      ]
    },
    {
      "cell_type": "markdown",
      "metadata": {
        "id": "Oxk_EdAmPQPW"
      },
      "source": [
        "#### some values in the numerator is less than the denomnator (10) which is uncorrect according the rating system."
      ]
    },
    {
      "cell_type": "markdown",
      "metadata": {
        "id": "1F5jPcF8PQPW"
      },
      "source": [
        "#### values in the rating denominator is now always 10 which inedicate a mistake in the data."
      ]
    },
    {
      "cell_type": "code",
      "metadata": {
        "id": "Qq9y4td8PQPW",
        "outputId": "e074955b-c4d1-4626-fd7e-a964c7c862a4"
      },
      "source": [
        "sum(twitter_archive.doggo.isnull())"
      ],
      "execution_count": null,
      "outputs": [
        {
          "output_type": "execute_result",
          "data": {
            "text/plain": [
              "0"
            ]
          },
          "metadata": {
            "tags": []
          },
          "execution_count": 17
        }
      ]
    },
    {
      "cell_type": "markdown",
      "metadata": {
        "id": "TpDdg2FTPQPW"
      },
      "source": [
        "#### null values in the columns(doggo, floofer, pupper, puppo) are not shown because it is written as None"
      ]
    },
    {
      "cell_type": "code",
      "metadata": {
        "id": "MAqJVJhPPQPW",
        "outputId": "02f9c74d-f0ff-4c7b-93a7-59ee03dee7e3"
      },
      "source": [
        "sum(image_predict.jpg_url.duplicated())"
      ],
      "execution_count": null,
      "outputs": [
        {
          "output_type": "execute_result",
          "data": {
            "text/plain": [
              "66"
            ]
          },
          "metadata": {
            "tags": []
          },
          "execution_count": 18
        }
      ]
    },
    {
      "cell_type": "code",
      "metadata": {
        "id": "bMI3cYjnPQPW",
        "outputId": "b7ef7573-5356-424e-9e26-76ab86ede6a0"
      },
      "source": [
        "twitter_data[twitter_data.retweeted == True].count()[0]"
      ],
      "execution_count": null,
      "outputs": [
        {
          "output_type": "execute_result",
          "data": {
            "text/plain": [
              "0"
            ]
          },
          "metadata": {
            "tags": []
          },
          "execution_count": 19
        }
      ]
    },
    {
      "cell_type": "code",
      "metadata": {
        "id": "oyNOWpvHPQPW",
        "outputId": "e6fd4e99-eb3e-4afb-ea81-f761f24ae5f9"
      },
      "source": [
        "twitter_archive.name.value_counts().head(20)"
      ],
      "execution_count": null,
      "outputs": [
        {
          "output_type": "execute_result",
          "data": {
            "text/plain": [
              "None       745\n",
              "a           55\n",
              "Charlie     12\n",
              "Lucy        11\n",
              "Oliver      11\n",
              "Cooper      11\n",
              "Lola        10\n",
              "Tucker      10\n",
              "Penny       10\n",
              "Bo           9\n",
              "Winston      9\n",
              "Sadie        8\n",
              "the          8\n",
              "Daisy        7\n",
              "Buddy        7\n",
              "an           7\n",
              "Bailey       7\n",
              "Toby         7\n",
              "Koda         6\n",
              "Stanley      6\n",
              "Name: name, dtype: int64"
            ]
          },
          "metadata": {
            "tags": []
          },
          "execution_count": 20
        }
      ]
    },
    {
      "cell_type": "markdown",
      "metadata": {
        "id": "wIahrURlPQPW"
      },
      "source": [
        "#### This means that there is no retweeted tweets in the twitter_data dataset. "
      ]
    },
    {
      "cell_type": "markdown",
      "metadata": {
        "id": "VC7Fmt_yPQPW"
      },
      "source": [
        "## Define"
      ]
    },
    {
      "cell_type": "markdown",
      "metadata": {
        "id": "dNzKhYoWPQPW"
      },
      "source": [
        "### Quality Issues\n",
        "\n",
        "*`twitter_archieve` Table:* \n",
        "\n",
        "1- error in datatype (timestamp) --> object instead of datetime\n",
        "\n",
        "2- according to the rating system, the denominator should be always 10. but it appears that we have other values such as 3, 2 .. etc\n",
        "\n",
        "3- some values in the numerator is less than the denomnator (10) which is uncorrect according the rating system. **[uncleaned]**\n",
        "\n",
        "4- null values in the columns(name, doggo, floofer, pupper, puppo) are not shown because it is written as None\n",
        "\n",
        "5- There is an html header in the source column\n",
        "\n",
        "6- False Dogs names like: a, an, the ... ----> written in lower case\n",
        "\n",
        "*`image_predict` Table:* \n",
        "\n",
        "1- There is duplicates in images url  ---> repeated images are not useful to us\n",
        "\n",
        "*`Twitter_data` Table:* \n",
        "\n",
        "1- missing data (2331), according to udacity file it should be 2356\n",
        "\n",
        "2- repeated column (text) --> since that they should be merged\n",
        "\n",
        "3- id column is this table is not consistant with tweet_id in twitter_archieve ---> they should be the same to be merged into one table\n"
      ]
    },
    {
      "cell_type": "markdown",
      "metadata": {
        "id": "atlvD6PNPQPW"
      },
      "source": [
        "### Tideness Issues"
      ]
    },
    {
      "cell_type": "markdown",
      "metadata": {
        "id": "MAmebqJ1PQPW"
      },
      "source": [
        "*`twitter_archieve` Table:* \n",
        "\n",
        "1- dog types is seperated in different columns(doggo, floofer, pupper, puppo)\n",
        "\n",
        "2- Columns with no use (in_reply_to_status_id, in_reply_to_user_id) \n",
        "\n",
        "*`image_predict` Table:* \n",
        "\n",
        "1- Unclear Column names(p1,p2,p3)\n",
        "\n",
        "2- dog image prediction can be summerized into two columns (dog prediction type, confidence level) instead of the 9 given columns related to prediction\n",
        "\n",
        "*`Twitter_data` Table:*\n",
        "\n",
        "1- The table twitter_data and table twitter_archieve contains info about a single tweets. It can be merged into single table. also it can be merged with image_predict to combine it with a prediction of a breed"
      ]
    },
    {
      "cell_type": "markdown",
      "metadata": {
        "id": "PaJLZd10PQPW"
      },
      "source": [
        "----------------------------------------------------------"
      ]
    },
    {
      "cell_type": "markdown",
      "metadata": {
        "id": "AoEFwR4dPQPW"
      },
      "source": [
        "## <div id=clean> Step3: Cleaning </div>"
      ]
    },
    {
      "cell_type": "markdown",
      "metadata": {
        "id": "0SyUxw2yPQPW"
      },
      "source": [
        "first step is to create clean version from the original datasets"
      ]
    },
    {
      "cell_type": "code",
      "metadata": {
        "id": "I0JIpCY2PQPW"
      },
      "source": [
        "twitter_archive_clean = twitter_archive.copy()\n",
        "image_predict_clean = image_predict.copy()\n",
        "twitter_data_clean = twitter_data.copy()"
      ],
      "execution_count": null,
      "outputs": []
    },
    {
      "cell_type": "markdown",
      "metadata": {
        "id": "e39y5FMEPQPW"
      },
      "source": [
        "### Error in datatype (timestamp) --> object instead of time"
      ]
    },
    {
      "cell_type": "markdown",
      "metadata": {
        "id": "1enBK1iFPQPW"
      },
      "source": [
        "## Define"
      ]
    },
    {
      "cell_type": "markdown",
      "metadata": {
        "id": "1N4XizufPQPW"
      },
      "source": [
        "Change the datatype from object to datetime"
      ]
    },
    {
      "cell_type": "markdown",
      "metadata": {
        "id": "T18GlO8dPQPW"
      },
      "source": [
        "## Code"
      ]
    },
    {
      "cell_type": "code",
      "metadata": {
        "id": "7woYguzqPQPW"
      },
      "source": [
        "twitter_archive_clean.timestamp = pd.to_datetime(twitter_archive_clean.timestamp)"
      ],
      "execution_count": null,
      "outputs": []
    },
    {
      "cell_type": "markdown",
      "metadata": {
        "id": "bkN7mjvmPQPW"
      },
      "source": [
        "## Test"
      ]
    },
    {
      "cell_type": "code",
      "metadata": {
        "id": "5i0MVKOxPQPW",
        "outputId": "f3f16e85-626d-4a00-f1ff-32c8021ada6c"
      },
      "source": [
        "twitter_archive_clean.timestamp.dtype"
      ],
      "execution_count": null,
      "outputs": [
        {
          "output_type": "execute_result",
          "data": {
            "text/plain": [
              "datetime64[ns, UTC]"
            ]
          },
          "metadata": {
            "tags": []
          },
          "execution_count": 23
        }
      ]
    },
    {
      "cell_type": "markdown",
      "metadata": {
        "id": "asT9T3OKPQPW"
      },
      "source": [
        "-------------------------------------------------------------------------------------------------------------------------------"
      ]
    },
    {
      "cell_type": "markdown",
      "metadata": {
        "id": "Gf963KL0PQPW"
      },
      "source": [
        "### According to the rating system, the denominator should be always 10. but it appears that we have other values such as 3, 2 .. etc"
      ]
    },
    {
      "cell_type": "markdown",
      "metadata": {
        "id": "maSgxCZgPQPW"
      },
      "source": [
        "## Define"
      ]
    },
    {
      "cell_type": "markdown",
      "metadata": {
        "id": "502lTUIJPQPW"
      },
      "source": [
        "reassign all values in rating denominator to be 10"
      ]
    },
    {
      "cell_type": "markdown",
      "metadata": {
        "id": "pDZ6JW8APQPW"
      },
      "source": [
        "## Code"
      ]
    },
    {
      "cell_type": "code",
      "metadata": {
        "id": "MXSshBunPQPW"
      },
      "source": [
        "twitter_archive_clean.rating_denominator = 10"
      ],
      "execution_count": null,
      "outputs": []
    },
    {
      "cell_type": "markdown",
      "metadata": {
        "id": "njPitDgiPQPW"
      },
      "source": [
        "## Test"
      ]
    },
    {
      "cell_type": "code",
      "metadata": {
        "id": "eSxuLUKCPQPW",
        "outputId": "f29bb229-5417-408d-8c82-1d8b3a74708c"
      },
      "source": [
        "twitter_archive_clean.rating_denominator.value_counts()"
      ],
      "execution_count": null,
      "outputs": [
        {
          "output_type": "execute_result",
          "data": {
            "text/plain": [
              "10    2356\n",
              "Name: rating_denominator, dtype: int64"
            ]
          },
          "metadata": {
            "tags": []
          },
          "execution_count": 25
        }
      ]
    },
    {
      "cell_type": "markdown",
      "metadata": {
        "id": "PdaIB3a1PQPW"
      },
      "source": [
        "----------------------------------------------------------------"
      ]
    },
    {
      "cell_type": "markdown",
      "metadata": {
        "id": "1KHFwz1XPQPW"
      },
      "source": [
        "### Columns names(p1,p2,p3) is not clear"
      ]
    },
    {
      "cell_type": "markdown",
      "metadata": {
        "id": "Dc6n_K7nPQPW"
      },
      "source": [
        "## Define"
      ]
    },
    {
      "cell_type": "markdown",
      "metadata": {
        "id": "b2-vjNIePQPW"
      },
      "source": [
        "change columns names(p1,p2,p3) to ---> first_pred, second_pred, third_pred"
      ]
    },
    {
      "cell_type": "markdown",
      "metadata": {
        "id": "TOQV8KdNPQPW"
      },
      "source": [
        "## Code"
      ]
    },
    {
      "cell_type": "code",
      "metadata": {
        "id": "Syb-b0MWPQPW"
      },
      "source": [
        "image_predict_clean = image_predict_clean.rename(columns={\"p1\": \"first_pred\", \"p2\": \"second_pred\", \"p3\": \"third_pred\"})"
      ],
      "execution_count": null,
      "outputs": []
    },
    {
      "cell_type": "markdown",
      "metadata": {
        "id": "Tjc4VBvWPQPW"
      },
      "source": [
        "## Test"
      ]
    },
    {
      "cell_type": "code",
      "metadata": {
        "id": "RJLKe0pEPQPW",
        "outputId": "2c48d1fd-1be4-4cac-8e3a-22b6d0666bf8"
      },
      "source": [
        "list(image_predict_clean)"
      ],
      "execution_count": null,
      "outputs": [
        {
          "output_type": "execute_result",
          "data": {
            "text/plain": [
              "['tweet_id',\n",
              " 'jpg_url',\n",
              " 'img_num',\n",
              " 'first_pred',\n",
              " 'p1_conf',\n",
              " 'p1_dog',\n",
              " 'second_pred',\n",
              " 'p2_conf',\n",
              " 'p2_dog',\n",
              " 'third_pred',\n",
              " 'p3_conf',\n",
              " 'p3_dog']"
            ]
          },
          "metadata": {
            "tags": []
          },
          "execution_count": 27
        }
      ]
    },
    {
      "cell_type": "markdown",
      "metadata": {
        "id": "MExG-RWVPQPW"
      },
      "source": [
        "---------------------------------------------------------------------------"
      ]
    },
    {
      "cell_type": "markdown",
      "metadata": {
        "id": "Hm7IKYx0PQPW"
      },
      "source": [
        "### Missing values in (name, doggo, floofer, pupper,puppo) is not shown"
      ]
    },
    {
      "cell_type": "markdown",
      "metadata": {
        "id": "Oih3JfwPPQPX"
      },
      "source": [
        "## Define"
      ]
    },
    {
      "cell_type": "markdown",
      "metadata": {
        "id": "kI4Pl4e6PQPX"
      },
      "source": [
        "change the string None in these columns to null values using replace method and np.nan"
      ]
    },
    {
      "cell_type": "markdown",
      "metadata": {
        "id": "qrKWbV4OPQPX"
      },
      "source": [
        "## Code"
      ]
    },
    {
      "cell_type": "code",
      "metadata": {
        "id": "P44hFCzqPQPX"
      },
      "source": [
        "twitter_archive_clean.name = twitter_archive_clean.name.replace('None', np.nan)\n",
        "twitter_archive_clean.doggo = twitter_archive_clean.doggo.replace('None', np.nan)\n",
        "twitter_archive_clean.floofer = twitter_archive_clean.floofer.replace('None', np.nan)\n",
        "twitter_archive_clean.pupper = twitter_archive_clean.pupper.replace('None', np.nan)\n",
        "twitter_archive_clean.puppo = twitter_archive_clean.puppo.replace('None', np.nan)"
      ],
      "execution_count": null,
      "outputs": []
    },
    {
      "cell_type": "markdown",
      "metadata": {
        "id": "dL5zMiTGPQPX"
      },
      "source": [
        "## Test"
      ]
    },
    {
      "cell_type": "code",
      "metadata": {
        "scrolled": true,
        "id": "2bcYJjfKPQPX",
        "outputId": "9902e6e2-0992-4b88-bab3-76ca38d11587"
      },
      "source": [
        "sum(twitter_archive_clean.doggo.isnull())"
      ],
      "execution_count": null,
      "outputs": [
        {
          "output_type": "execute_result",
          "data": {
            "text/plain": [
              "2259"
            ]
          },
          "metadata": {
            "tags": []
          },
          "execution_count": 29
        }
      ]
    },
    {
      "cell_type": "markdown",
      "metadata": {
        "id": "qFPcSxkLPQPX"
      },
      "source": [
        "----------------------------------------------------"
      ]
    },
    {
      "cell_type": "markdown",
      "metadata": {
        "id": "FIJI_e5WPQPX"
      },
      "source": [
        "## Define"
      ]
    },
    {
      "cell_type": "markdown",
      "metadata": {
        "id": "9U1hIe-9PQPX"
      },
      "source": [
        "we need to find the missing data from the twitter data table so it can match the records in twitter_archive. This can be done by downloading the complete json file provided by udacity and append the missing record to our table. "
      ]
    },
    {
      "cell_type": "markdown",
      "metadata": {
        "id": "jekoe3wAPQPX"
      },
      "source": [
        "## Code"
      ]
    },
    {
      "cell_type": "code",
      "metadata": {
        "id": "ZJeUyjn3PQPX"
      },
      "source": [
        "df_list = []\n",
        "with open('tweet_json_udacity.txt', 'r', encoding='utf-8') as json_file:\n",
        "    for line in json_file:\n",
        "        #adding data line by line to the dataframe\n",
        "        data = json.loads(line)\n",
        "        df_list.append(data)"
      ],
      "execution_count": null,
      "outputs": []
    },
    {
      "cell_type": "code",
      "metadata": {
        "id": "_SX6mTB7PQPX",
        "outputId": "afdb3560-cf8a-43a9-9521-79ae8a964200"
      },
      "source": [
        "df = pd.DataFrame(df_list, columns = df_list[0].keys())\n",
        "twitter_data_udacity = df[['id', 'retweet_count', 'favorite_count', 'retweeted', 'full_text']]\n",
        "twitter_data_udacity.head()"
      ],
      "execution_count": null,
      "outputs": [
        {
          "output_type": "execute_result",
          "data": {
            "text/html": [
              "<div>\n",
              "<style scoped>\n",
              "    .dataframe tbody tr th:only-of-type {\n",
              "        vertical-align: middle;\n",
              "    }\n",
              "\n",
              "    .dataframe tbody tr th {\n",
              "        vertical-align: top;\n",
              "    }\n",
              "\n",
              "    .dataframe thead th {\n",
              "        text-align: right;\n",
              "    }\n",
              "</style>\n",
              "<table border=\"1\" class=\"dataframe\">\n",
              "  <thead>\n",
              "    <tr style=\"text-align: right;\">\n",
              "      <th></th>\n",
              "      <th>id</th>\n",
              "      <th>retweet_count</th>\n",
              "      <th>favorite_count</th>\n",
              "      <th>retweeted</th>\n",
              "      <th>full_text</th>\n",
              "    </tr>\n",
              "  </thead>\n",
              "  <tbody>\n",
              "    <tr>\n",
              "      <th>0</th>\n",
              "      <td>892420643555336193</td>\n",
              "      <td>8853</td>\n",
              "      <td>39467</td>\n",
              "      <td>False</td>\n",
              "      <td>This is Phineas. He's a mystical boy. Only eve...</td>\n",
              "    </tr>\n",
              "    <tr>\n",
              "      <th>1</th>\n",
              "      <td>892177421306343426</td>\n",
              "      <td>6514</td>\n",
              "      <td>33819</td>\n",
              "      <td>False</td>\n",
              "      <td>This is Tilly. She's just checking pup on you....</td>\n",
              "    </tr>\n",
              "    <tr>\n",
              "      <th>2</th>\n",
              "      <td>891815181378084864</td>\n",
              "      <td>4328</td>\n",
              "      <td>25461</td>\n",
              "      <td>False</td>\n",
              "      <td>This is Archie. He is a rare Norwegian Pouncin...</td>\n",
              "    </tr>\n",
              "    <tr>\n",
              "      <th>3</th>\n",
              "      <td>891689557279858688</td>\n",
              "      <td>8964</td>\n",
              "      <td>42908</td>\n",
              "      <td>False</td>\n",
              "      <td>This is Darla. She commenced a snooze mid meal...</td>\n",
              "    </tr>\n",
              "    <tr>\n",
              "      <th>4</th>\n",
              "      <td>891327558926688256</td>\n",
              "      <td>9774</td>\n",
              "      <td>41048</td>\n",
              "      <td>False</td>\n",
              "      <td>This is Franklin. He would like you to stop ca...</td>\n",
              "    </tr>\n",
              "  </tbody>\n",
              "</table>\n",
              "</div>"
            ],
            "text/plain": [
              "                   id  retweet_count  favorite_count  retweeted  \\\n",
              "0  892420643555336193           8853           39467      False   \n",
              "1  892177421306343426           6514           33819      False   \n",
              "2  891815181378084864           4328           25461      False   \n",
              "3  891689557279858688           8964           42908      False   \n",
              "4  891327558926688256           9774           41048      False   \n",
              "\n",
              "                                           full_text  \n",
              "0  This is Phineas. He's a mystical boy. Only eve...  \n",
              "1  This is Tilly. She's just checking pup on you....  \n",
              "2  This is Archie. He is a rare Norwegian Pouncin...  \n",
              "3  This is Darla. She commenced a snooze mid meal...  \n",
              "4  This is Franklin. He would like you to stop ca...  "
            ]
          },
          "metadata": {
            "tags": []
          },
          "execution_count": 31
        }
      ]
    },
    {
      "cell_type": "code",
      "metadata": {
        "id": "jPUpBhGsPQPX",
        "outputId": "4e02a8cc-a442-4747-b21a-315c6fbc5247"
      },
      "source": [
        "#this data is the full dataset dowloaded from udacity\n",
        "twitter_data_udacity.shape"
      ],
      "execution_count": null,
      "outputs": [
        {
          "output_type": "execute_result",
          "data": {
            "text/plain": [
              "(2354, 5)"
            ]
          },
          "metadata": {
            "tags": []
          },
          "execution_count": 32
        }
      ]
    },
    {
      "cell_type": "code",
      "metadata": {
        "id": "CDtE_UscPQPX",
        "outputId": "6ddf454d-1f21-4673-aeae-5d0620d1943b"
      },
      "source": [
        "#this dataset is the one that we got from twitter scrapping using twitter API\n",
        "twitter_data_clean.shape"
      ],
      "execution_count": null,
      "outputs": [
        {
          "output_type": "execute_result",
          "data": {
            "text/plain": [
              "(2331, 5)"
            ]
          },
          "metadata": {
            "tags": []
          },
          "execution_count": 33
        }
      ]
    },
    {
      "cell_type": "code",
      "metadata": {
        "id": "V42-7E38PQPX"
      },
      "source": [
        "tweet_ids = twitter_data_clean.id.values\n",
        "\n",
        "#this function will check the missing data that exist in twitter_data_udacity but not in the previuse twitter_data table.  \n",
        "missing_records = twitter_data_udacity[~twitter_data_udacity.id.isin(tweet_ids)]\n",
        "\n",
        "#adding the missing records to the final table\n",
        "twitter_data_clean = twitter_data_clean.append(missing_records, ignore_index=True)"
      ],
      "execution_count": null,
      "outputs": []
    },
    {
      "cell_type": "markdown",
      "metadata": {
        "id": "C5Kcor3nPQPX"
      },
      "source": [
        "## Test"
      ]
    },
    {
      "cell_type": "code",
      "metadata": {
        "id": "RzebUrWGPQPX",
        "outputId": "dc2c27df-8d1d-4140-e98b-114c6c1f722a"
      },
      "source": [
        "twitter_data_clean.shape"
      ],
      "execution_count": null,
      "outputs": [
        {
          "output_type": "execute_result",
          "data": {
            "text/plain": [
              "(2354, 5)"
            ]
          },
          "metadata": {
            "tags": []
          },
          "execution_count": 35
        }
      ]
    },
    {
      "cell_type": "markdown",
      "metadata": {
        "id": "IeE2NQeePQPX"
      },
      "source": [
        "#### Great! now our table is complete."
      ]
    },
    {
      "cell_type": "markdown",
      "metadata": {
        "id": "epOhPmwrPQPX"
      },
      "source": [
        "----------------------------"
      ]
    },
    {
      "cell_type": "markdown",
      "metadata": {
        "id": "bo-qjHKMPQPX"
      },
      "source": [
        "## Define"
      ]
    },
    {
      "cell_type": "markdown",
      "metadata": {
        "id": "jf3JY44LPQPX"
      },
      "source": [
        "twitter archieve and twitter data should be merged into one table. To do this: \n",
        "\n",
        "1- First we need to unify the key name (tweet id) so we change the id into tweet_id in twitter_data.\n",
        "\n",
        "2- we need to convert all columns into string to match their data type. \n",
        "\n",
        "3- we merge all data frames using pd.merge using twitter id as the key. "
      ]
    },
    {
      "cell_type": "markdown",
      "metadata": {
        "id": "pRdj5zOAPQPX"
      },
      "source": [
        "## Code"
      ]
    },
    {
      "cell_type": "code",
      "metadata": {
        "id": "9zmGCeXDPQPX"
      },
      "source": [
        "twitter_data_clean = twitter_data_clean.rename(columns={'id':'tweet_id'})"
      ],
      "execution_count": null,
      "outputs": []
    },
    {
      "cell_type": "code",
      "metadata": {
        "id": "b8ctT-yJPQPX"
      },
      "source": [
        "twitter_archive_clean.tweet_id = twitter_archive_clean.tweet_id.astype(str)\n",
        "twitter_data_clean.tweet_id = twitter_data_clean.tweet_id.astype(str)\n",
        "image_predict_clean.tweet_id = twitter_data_clean.tweet_id.astype(str)"
      ],
      "execution_count": null,
      "outputs": []
    },
    {
      "cell_type": "code",
      "metadata": {
        "id": "rKh78GOLPQPX"
      },
      "source": [
        "full_archive = pd.merge(twitter_archive_clean, twitter_data_clean, on='tweet_id')"
      ],
      "execution_count": null,
      "outputs": []
    },
    {
      "cell_type": "markdown",
      "metadata": {
        "id": "JVdCMG-mPQPX"
      },
      "source": [
        "## Test"
      ]
    },
    {
      "cell_type": "code",
      "metadata": {
        "id": "gmUit2wwPQPX",
        "outputId": "0698386c-2ed6-4906-a720-f800dac2e061"
      },
      "source": [
        "full_archive.head(3)"
      ],
      "execution_count": null,
      "outputs": [
        {
          "output_type": "execute_result",
          "data": {
            "text/html": [
              "<div>\n",
              "<style scoped>\n",
              "    .dataframe tbody tr th:only-of-type {\n",
              "        vertical-align: middle;\n",
              "    }\n",
              "\n",
              "    .dataframe tbody tr th {\n",
              "        vertical-align: top;\n",
              "    }\n",
              "\n",
              "    .dataframe thead th {\n",
              "        text-align: right;\n",
              "    }\n",
              "</style>\n",
              "<table border=\"1\" class=\"dataframe\">\n",
              "  <thead>\n",
              "    <tr style=\"text-align: right;\">\n",
              "      <th></th>\n",
              "      <th>tweet_id</th>\n",
              "      <th>in_reply_to_status_id</th>\n",
              "      <th>in_reply_to_user_id</th>\n",
              "      <th>timestamp</th>\n",
              "      <th>source</th>\n",
              "      <th>text</th>\n",
              "      <th>retweeted_status_id</th>\n",
              "      <th>retweeted_status_user_id</th>\n",
              "      <th>retweeted_status_timestamp</th>\n",
              "      <th>expanded_urls</th>\n",
              "      <th>...</th>\n",
              "      <th>rating_denominator</th>\n",
              "      <th>name</th>\n",
              "      <th>doggo</th>\n",
              "      <th>floofer</th>\n",
              "      <th>pupper</th>\n",
              "      <th>puppo</th>\n",
              "      <th>retweet_count</th>\n",
              "      <th>favorite_count</th>\n",
              "      <th>retweeted</th>\n",
              "      <th>full_text</th>\n",
              "    </tr>\n",
              "  </thead>\n",
              "  <tbody>\n",
              "    <tr>\n",
              "      <th>0</th>\n",
              "      <td>892420643555336193</td>\n",
              "      <td>NaN</td>\n",
              "      <td>NaN</td>\n",
              "      <td>2017-08-01 16:23:56+00:00</td>\n",
              "      <td>&lt;a href=\"http://twitter.com/download/iphone\" r...</td>\n",
              "      <td>This is Phineas. He's a mystical boy. Only eve...</td>\n",
              "      <td>NaN</td>\n",
              "      <td>NaN</td>\n",
              "      <td>NaN</td>\n",
              "      <td>https://twitter.com/dog_rates/status/892420643...</td>\n",
              "      <td>...</td>\n",
              "      <td>10</td>\n",
              "      <td>Phineas</td>\n",
              "      <td>NaN</td>\n",
              "      <td>NaN</td>\n",
              "      <td>NaN</td>\n",
              "      <td>NaN</td>\n",
              "      <td>7473</td>\n",
              "      <td>35383</td>\n",
              "      <td>False</td>\n",
              "      <td>This is Phineas. He's a mystical boy. Only eve...</td>\n",
              "    </tr>\n",
              "    <tr>\n",
              "      <th>1</th>\n",
              "      <td>892177421306343426</td>\n",
              "      <td>NaN</td>\n",
              "      <td>NaN</td>\n",
              "      <td>2017-08-01 00:17:27+00:00</td>\n",
              "      <td>&lt;a href=\"http://twitter.com/download/iphone\" r...</td>\n",
              "      <td>This is Tilly. She's just checking pup on you....</td>\n",
              "      <td>NaN</td>\n",
              "      <td>NaN</td>\n",
              "      <td>NaN</td>\n",
              "      <td>https://twitter.com/dog_rates/status/892177421...</td>\n",
              "      <td>...</td>\n",
              "      <td>10</td>\n",
              "      <td>Tilly</td>\n",
              "      <td>NaN</td>\n",
              "      <td>NaN</td>\n",
              "      <td>NaN</td>\n",
              "      <td>NaN</td>\n",
              "      <td>5547</td>\n",
              "      <td>30631</td>\n",
              "      <td>False</td>\n",
              "      <td>This is Tilly. She's just checking pup on you....</td>\n",
              "    </tr>\n",
              "    <tr>\n",
              "      <th>2</th>\n",
              "      <td>891815181378084864</td>\n",
              "      <td>NaN</td>\n",
              "      <td>NaN</td>\n",
              "      <td>2017-07-31 00:18:03+00:00</td>\n",
              "      <td>&lt;a href=\"http://twitter.com/download/iphone\" r...</td>\n",
              "      <td>This is Archie. He is a rare Norwegian Pouncin...</td>\n",
              "      <td>NaN</td>\n",
              "      <td>NaN</td>\n",
              "      <td>NaN</td>\n",
              "      <td>https://twitter.com/dog_rates/status/891815181...</td>\n",
              "      <td>...</td>\n",
              "      <td>10</td>\n",
              "      <td>Archie</td>\n",
              "      <td>NaN</td>\n",
              "      <td>NaN</td>\n",
              "      <td>NaN</td>\n",
              "      <td>NaN</td>\n",
              "      <td>3671</td>\n",
              "      <td>23037</td>\n",
              "      <td>False</td>\n",
              "      <td>This is Archie. He is a rare Norwegian Pouncin...</td>\n",
              "    </tr>\n",
              "  </tbody>\n",
              "</table>\n",
              "<p>3 rows × 21 columns</p>\n",
              "</div>"
            ],
            "text/plain": [
              "             tweet_id  in_reply_to_status_id  in_reply_to_user_id  \\\n",
              "0  892420643555336193                    NaN                  NaN   \n",
              "1  892177421306343426                    NaN                  NaN   \n",
              "2  891815181378084864                    NaN                  NaN   \n",
              "\n",
              "                  timestamp  \\\n",
              "0 2017-08-01 16:23:56+00:00   \n",
              "1 2017-08-01 00:17:27+00:00   \n",
              "2 2017-07-31 00:18:03+00:00   \n",
              "\n",
              "                                              source  \\\n",
              "0  <a href=\"http://twitter.com/download/iphone\" r...   \n",
              "1  <a href=\"http://twitter.com/download/iphone\" r...   \n",
              "2  <a href=\"http://twitter.com/download/iphone\" r...   \n",
              "\n",
              "                                                text  retweeted_status_id  \\\n",
              "0  This is Phineas. He's a mystical boy. Only eve...                  NaN   \n",
              "1  This is Tilly. She's just checking pup on you....                  NaN   \n",
              "2  This is Archie. He is a rare Norwegian Pouncin...                  NaN   \n",
              "\n",
              "   retweeted_status_user_id retweeted_status_timestamp  \\\n",
              "0                       NaN                        NaN   \n",
              "1                       NaN                        NaN   \n",
              "2                       NaN                        NaN   \n",
              "\n",
              "                                       expanded_urls  ...  rating_denominator  \\\n",
              "0  https://twitter.com/dog_rates/status/892420643...  ...                  10   \n",
              "1  https://twitter.com/dog_rates/status/892177421...  ...                  10   \n",
              "2  https://twitter.com/dog_rates/status/891815181...  ...                  10   \n",
              "\n",
              "      name doggo floofer pupper puppo retweet_count  favorite_count  \\\n",
              "0  Phineas   NaN     NaN    NaN   NaN          7473           35383   \n",
              "1    Tilly   NaN     NaN    NaN   NaN          5547           30631   \n",
              "2   Archie   NaN     NaN    NaN   NaN          3671           23037   \n",
              "\n",
              "   retweeted                                          full_text  \n",
              "0      False  This is Phineas. He's a mystical boy. Only eve...  \n",
              "1      False  This is Tilly. She's just checking pup on you....  \n",
              "2      False  This is Archie. He is a rare Norwegian Pouncin...  \n",
              "\n",
              "[3 rows x 21 columns]"
            ]
          },
          "metadata": {
            "tags": []
          },
          "execution_count": 39
        }
      ]
    },
    {
      "cell_type": "markdown",
      "metadata": {
        "id": "Z-pOAi1_PQPX"
      },
      "source": [
        "------------------------------------------"
      ]
    },
    {
      "cell_type": "markdown",
      "metadata": {
        "id": "LmmFW4CkPQPX"
      },
      "source": [
        "## Define"
      ]
    },
    {
      "cell_type": "markdown",
      "metadata": {
        "id": "oEYnnqmRPQPX"
      },
      "source": [
        "duplicated images with the same url should be dropped since they are of no use to us"
      ]
    },
    {
      "cell_type": "markdown",
      "metadata": {
        "id": "WtjeUunkPQPX"
      },
      "source": [
        "## Code"
      ]
    },
    {
      "cell_type": "code",
      "metadata": {
        "id": "_ERWzIrBPQPX"
      },
      "source": [
        "image_predict_clean.drop_duplicates(subset =\"jpg_url\", \n",
        "                     keep = False, inplace = True) "
      ],
      "execution_count": null,
      "outputs": []
    },
    {
      "cell_type": "markdown",
      "metadata": {
        "id": "HQTxG1KSPQPX"
      },
      "source": [
        "## Test"
      ]
    },
    {
      "cell_type": "code",
      "metadata": {
        "id": "4rQNEtqTPQPX",
        "outputId": "1e4a77d7-c618-4cee-ba7a-a395f019b564"
      },
      "source": [
        "sum(image_predict_clean.jpg_url.duplicated())"
      ],
      "execution_count": null,
      "outputs": [
        {
          "output_type": "execute_result",
          "data": {
            "text/plain": [
              "0"
            ]
          },
          "metadata": {
            "tags": []
          },
          "execution_count": 41
        }
      ]
    },
    {
      "cell_type": "markdown",
      "metadata": {
        "id": "yFbNJinwPQPX"
      },
      "source": [
        "------------------------------------"
      ]
    },
    {
      "cell_type": "markdown",
      "metadata": {
        "id": "eP4ckfEbPQPX"
      },
      "source": [
        "## Define"
      ]
    },
    {
      "cell_type": "markdown",
      "metadata": {
        "id": "vgILDQCCPQPX"
      },
      "source": [
        "html tags needs to be removed from the source column in full_archive table. This step will be done using regular expression that strips out all html tags from a string. The following function can be found on this stack overflow link: <a href=\"https://stackoverflow.com/questions/3398852/using-python-remove-html-tags-formatting-from-a-string\"> How_to_strip_html_tags</a>  but was modified to be applied on a dataframe column."
      ]
    },
    {
      "cell_type": "markdown",
      "metadata": {
        "id": "fg1dCiSHPQPX"
      },
      "source": [
        "## Code"
      ]
    },
    {
      "cell_type": "code",
      "metadata": {
        "id": "oVOmWoFmPQPX"
      },
      "source": [
        "#This function is used to strip html tags\n",
        "import re\n",
        "def striphtml(data):\n",
        "    p = re.compile(r'<.*?>')\n",
        "    return p.sub('', data)\n",
        "\n",
        "full_archive.source =  full_archive.source.apply(lambda x: striphtml(x))"
      ],
      "execution_count": null,
      "outputs": []
    },
    {
      "cell_type": "markdown",
      "metadata": {
        "id": "ZGyEyscwPQPX"
      },
      "source": [
        "## Test"
      ]
    },
    {
      "cell_type": "code",
      "metadata": {
        "id": "WeflQ0LaPQPX",
        "outputId": "71710525-adba-469a-c14b-3e5b32980bdf"
      },
      "source": [
        "full_archive.source.value_counts()"
      ],
      "execution_count": null,
      "outputs": [
        {
          "output_type": "execute_result",
          "data": {
            "text/plain": [
              "Twitter for iPhone     2219\n",
              "Vine - Make a Scene      91\n",
              "Twitter Web Client       33\n",
              "TweetDeck                11\n",
              "Name: source, dtype: int64"
            ]
          },
          "metadata": {
            "tags": []
          },
          "execution_count": 43
        }
      ]
    },
    {
      "cell_type": "markdown",
      "metadata": {
        "id": "YUAvO8cCPQPX"
      },
      "source": [
        "-----------------------------------"
      ]
    },
    {
      "cell_type": "markdown",
      "metadata": {
        "id": "BH_cbJ0EPQPX"
      },
      "source": [
        "## Define"
      ]
    },
    {
      "cell_type": "markdown",
      "metadata": {
        "id": "P6sT_UxuPQPX"
      },
      "source": [
        "there is two duplicated column from merging twitter_data and twitter_archive --> text and full_text. One of them should be dropped"
      ]
    },
    {
      "cell_type": "markdown",
      "metadata": {
        "id": "-D9r9DWRPQPX"
      },
      "source": [
        "## Code"
      ]
    },
    {
      "cell_type": "code",
      "metadata": {
        "id": "qtOqT2BWPQPX"
      },
      "source": [
        "full_archive = full_archive.drop('full_text', axis=1)"
      ],
      "execution_count": null,
      "outputs": []
    },
    {
      "cell_type": "markdown",
      "metadata": {
        "id": "GwA67I3BPQPX"
      },
      "source": [
        "## Test"
      ]
    },
    {
      "cell_type": "code",
      "metadata": {
        "id": "yI4BRErdPQPX",
        "outputId": "cbd61109-1f6f-46ab-89ba-2a90677de29f"
      },
      "source": [
        "list(full_archive)"
      ],
      "execution_count": null,
      "outputs": [
        {
          "output_type": "execute_result",
          "data": {
            "text/plain": [
              "['tweet_id',\n",
              " 'in_reply_to_status_id',\n",
              " 'in_reply_to_user_id',\n",
              " 'timestamp',\n",
              " 'source',\n",
              " 'text',\n",
              " 'retweeted_status_id',\n",
              " 'retweeted_status_user_id',\n",
              " 'retweeted_status_timestamp',\n",
              " 'expanded_urls',\n",
              " 'rating_numerator',\n",
              " 'rating_denominator',\n",
              " 'name',\n",
              " 'doggo',\n",
              " 'floofer',\n",
              " 'pupper',\n",
              " 'puppo',\n",
              " 'retweet_count',\n",
              " 'favorite_count',\n",
              " 'retweeted']"
            ]
          },
          "metadata": {
            "tags": []
          },
          "execution_count": 45
        }
      ]
    },
    {
      "cell_type": "markdown",
      "metadata": {
        "id": "ZXP9-GI3PQPX"
      },
      "source": [
        "-------------------------------------------------"
      ]
    },
    {
      "cell_type": "markdown",
      "metadata": {
        "id": "2bvEm-FWPQPX"
      },
      "source": [
        "## Define"
      ]
    },
    {
      "cell_type": "markdown",
      "metadata": {
        "id": "ZSl_dVKkPQPX"
      },
      "source": [
        "We should drop unwanted columns from full_archive table ('in_reply_to_status_id','in_reply_to_user_id','retweeted')"
      ]
    },
    {
      "cell_type": "markdown",
      "metadata": {
        "id": "NdcrS3SPPQPX"
      },
      "source": [
        "## Code"
      ]
    },
    {
      "cell_type": "code",
      "metadata": {
        "id": "9E_B06W8PQPX"
      },
      "source": [
        "full_archive = full_archive.drop(['in_reply_to_status_id','in_reply_to_user_id','retweeted'], axis=1)"
      ],
      "execution_count": null,
      "outputs": []
    },
    {
      "cell_type": "markdown",
      "metadata": {
        "id": "fpVFhyRgPQPY"
      },
      "source": [
        "## Test"
      ]
    },
    {
      "cell_type": "code",
      "metadata": {
        "id": "EnrKZzhbPQPY",
        "outputId": "3bbbdbf4-fc2a-4ad3-9805-3a4130c63ea3"
      },
      "source": [
        "list(full_archive)"
      ],
      "execution_count": null,
      "outputs": [
        {
          "output_type": "execute_result",
          "data": {
            "text/plain": [
              "['tweet_id',\n",
              " 'timestamp',\n",
              " 'source',\n",
              " 'text',\n",
              " 'retweeted_status_id',\n",
              " 'retweeted_status_user_id',\n",
              " 'retweeted_status_timestamp',\n",
              " 'expanded_urls',\n",
              " 'rating_numerator',\n",
              " 'rating_denominator',\n",
              " 'name',\n",
              " 'doggo',\n",
              " 'floofer',\n",
              " 'pupper',\n",
              " 'puppo',\n",
              " 'retweet_count',\n",
              " 'favorite_count']"
            ]
          },
          "metadata": {
            "tags": []
          },
          "execution_count": 47
        }
      ]
    },
    {
      "cell_type": "markdown",
      "metadata": {
        "id": "VYwcAZJOPQPY"
      },
      "source": [
        "---------------------------------------------------"
      ]
    },
    {
      "cell_type": "markdown",
      "metadata": {
        "id": "7JpXx2q8PQPY"
      },
      "source": [
        "## Define"
      ]
    },
    {
      "cell_type": "markdown",
      "metadata": {
        "id": "dR6jKznQPQPY"
      },
      "source": [
        "We have a tideness issue which is that 4 column (doggo,floofer,pupper,puppo) represent single feature which is stage. first we will create a new column called stage which contain a concatenated string of all of these column. Then we will replace the nan value with empty string to extract the stage name only. Then we will check if there rows with multiple stages and inspect them seperatly using row index"
      ]
    },
    {
      "cell_type": "markdown",
      "metadata": {
        "id": "EZmyXjvUPQPY"
      },
      "source": [
        "## Code"
      ]
    },
    {
      "cell_type": "code",
      "metadata": {
        "id": "4uPjFaC3PQPY"
      },
      "source": [
        "stages = ['doggo', 'floofer', 'pupper', 'puppo']\n",
        "\n",
        "#concatente dog types into stage column\n",
        "full_archive['stage'] = full_archive[['doggo', 'floofer', 'pupper', 'puppo']].astype(str).sum(1)\n",
        "\n",
        "#replace the nan with empty string to keep the stage name only\n",
        "full_archive['stage'] = full_archive['stage'].apply(lambda x: x.replace('nan', ''))\n",
        "\n",
        "#replace the string with empty string to nan \n",
        "full_archive['stage'] = full_archive['stage'].apply(lambda x: np.NaN if x == '' else x)\n"
      ],
      "execution_count": null,
      "outputs": []
    },
    {
      "cell_type": "code",
      "metadata": {
        "id": "jw2i6QfXPQPY"
      },
      "source": [
        "#dropping the seperate stage columns\n",
        "full_archive=full_archive.drop(['doggo','floofer','pupper','puppo'], axis=1)"
      ],
      "execution_count": null,
      "outputs": []
    },
    {
      "cell_type": "code",
      "metadata": {
        "id": "e8c4qdxZPQPY",
        "outputId": "3e15eb78-e977-48fe-f9d3-ccd8e07fba20"
      },
      "source": [
        "full_archive.stage.value_counts()"
      ],
      "execution_count": null,
      "outputs": [
        {
          "output_type": "execute_result",
          "data": {
            "text/plain": [
              "pupper          244\n",
              "doggo            83\n",
              "puppo            29\n",
              "doggopupper      12\n",
              "floofer           9\n",
              "doggopuppo        1\n",
              "doggofloofer      1\n",
              "Name: stage, dtype: int64"
            ]
          },
          "metadata": {
            "tags": []
          },
          "execution_count": 50
        }
      ]
    },
    {
      "cell_type": "markdown",
      "metadata": {
        "id": "KUlTYVxHPQPY"
      },
      "source": [
        "*here we have some dogs with multi stages which is probably a mistake, so we will check the text associated with each one of them.*"
      ]
    },
    {
      "cell_type": "code",
      "metadata": {
        "id": "W3bsXJExPQPY"
      },
      "source": [
        "Multiple_stages = full_archive.query('stage == \"doggopupper\" | stage == \"doggopuppo\" | stage == \"doggofloofer\"')"
      ],
      "execution_count": null,
      "outputs": []
    },
    {
      "cell_type": "code",
      "metadata": {
        "id": "O-Ms9CvLPQPY",
        "outputId": "c510ee7c-9704-4f7f-dccc-f9bce183793c"
      },
      "source": [
        "Multiple_stages.shape"
      ],
      "execution_count": null,
      "outputs": [
        {
          "output_type": "execute_result",
          "data": {
            "text/plain": [
              "(14, 14)"
            ]
          },
          "metadata": {
            "tags": []
          },
          "execution_count": 52
        }
      ]
    },
    {
      "cell_type": "markdown",
      "metadata": {
        "id": "NsxUOu1iPQPY"
      },
      "source": [
        "*So, we have 14 false record in stage column. we will inspect the text of each one of them and assign the valid stage using their index*"
      ]
    },
    {
      "cell_type": "code",
      "metadata": {
        "id": "HNOuSHXZPQPY",
        "outputId": "95a3e356-9fc5-41a5-caa9-609e330edbfe"
      },
      "source": [
        "Multiple_stages.index.tolist()"
      ],
      "execution_count": null,
      "outputs": [
        {
          "output_type": "execute_result",
          "data": {
            "text/plain": [
              "[190, 199, 459, 530, 564, 574, 704, 732, 777, 820, 887, 954, 1061, 1111]"
            ]
          },
          "metadata": {
            "tags": []
          },
          "execution_count": 53
        }
      ]
    },
    {
      "cell_type": "code",
      "metadata": {
        "id": "qMg-j3ZZPQPY",
        "outputId": "2e018a61-a678-4a91-99f9-3a15ab28485a"
      },
      "source": [
        "list(Multiple_stages.text)"
      ],
      "execution_count": null,
      "outputs": [
        {
          "output_type": "execute_result",
          "data": {
            "text/plain": [
              "[\"Here's a puppo participating in the #ScienceMarch. Cleverly disguising her own doggo agenda. 13/10 would keep the planet habitable for https://t.co/cMhq16isel\",\n",
              " \"At first I thought this was a shy doggo, but it's actually a Rare Canadian Floofer Owl. Amateurs would confuse the two. 11/10 only send dogs https://t.co/TXdT3tmuYk\",\n",
              " 'This is Dido. She\\'s playing the lead role in \"Pupper Stops to Catch Snow Before Resuming Shadow Box with Dried Apple.\" 13/10 (IG: didodoggo) https://t.co/m7isZrOBX7',\n",
              " 'Here we have Burke (pupper) and Dexter (doggo). Pupper wants to be exactly like doggo. Both 12/10 would pet at same time https://t.co/ANBpEYHaho',\n",
              " 'Like doggo, like pupper version 2. Both 11/10 https://t.co/9IxWAXFqze',\n",
              " \"This is Bones. He's being haunted by another doggo of roughly the same size. 12/10 deep breaths pupper everything's fine https://t.co/55Dqe0SJNj\",\n",
              " \"This is Pinot. He's a sophisticated doggo. You can tell by the hat. Also pointier than your average pupper. Still 10/10 would pet cautiously https://t.co/f2wmLZTPHd\",\n",
              " 'Pupper butt 1, Doggo 0. Both 12/10 https://t.co/WQvcPEpH2u',\n",
              " 'RT @dog_rates: Like father (doggo), like son (pupper). Both 12/10 https://t.co/pG2inLaOda',\n",
              " 'RT @dog_rates: This is just downright precious af. 12/10 for both pupper and doggo https://t.co/o5J479bZUC',\n",
              " 'Meet Maggie &amp; Lila. Maggie is the doggo, Lila is the pupper. They are sisters. Both 12/10 would pet at the same time https://t.co/MYwR4DQKll',\n",
              " \"Please stop sending it pictures that don't even have a doggo or pupper in them. Churlish af. 5/10 neat couch tho https://t.co/u2c9c7qSg8\",\n",
              " 'This is just downright precious af. 12/10 for both pupper and doggo https://t.co/o5J479bZUC',\n",
              " 'Like father (doggo), like son (pupper). Both 12/10 https://t.co/pG2inLaOda']"
            ]
          },
          "metadata": {
            "tags": []
          },
          "execution_count": 54
        }
      ]
    },
    {
      "cell_type": "code",
      "metadata": {
        "id": "kXy-F4sePQPY"
      },
      "source": [
        "full_archive.loc[190, 'stage'] = 'puppo'\n",
        "full_archive.loc[199, 'stage'] = 'floofer'\n",
        "full_archive.loc[564, 'stage'] = 'pupper' \n",
        "full_archive.loc[574, 'stage'] = 'doggo'\n",
        "full_archive.loc[732, 'stage'] = 'doggo' \n",
        "full_archive.loc[954, 'stage'] = 'doggo' #this has been inspected using the image in the url since that the text is not clear\n",
        "\n",
        "#dropping the rows with multiple dogs in one image\n",
        "full_archive = full_archive.drop([459,530,704,777,820,887,1061,1111], axis=0)"
      ],
      "execution_count": null,
      "outputs": []
    },
    {
      "cell_type": "markdown",
      "metadata": {
        "id": "TzrdfmHuPQPY"
      },
      "source": [
        "## Test"
      ]
    },
    {
      "cell_type": "code",
      "metadata": {
        "id": "SHWRIAmTPQPY",
        "outputId": "02176737-899a-4a12-e709-10eccd5f7f83"
      },
      "source": [
        "full_archive.stage.value_counts()"
      ],
      "execution_count": null,
      "outputs": [
        {
          "output_type": "execute_result",
          "data": {
            "text/plain": [
              "pupper     245\n",
              "doggo       86\n",
              "puppo       30\n",
              "floofer     10\n",
              "Name: stage, dtype: int64"
            ]
          },
          "metadata": {
            "tags": []
          },
          "execution_count": 56
        }
      ]
    },
    {
      "cell_type": "code",
      "metadata": {
        "id": "4VuVEaQcPQPY",
        "outputId": "6c4da60a-f666-404f-d12e-2709e4ace61a"
      },
      "source": [
        "full_archive.shape"
      ],
      "execution_count": null,
      "outputs": [
        {
          "output_type": "execute_result",
          "data": {
            "text/plain": [
              "(2346, 14)"
            ]
          },
          "metadata": {
            "tags": []
          },
          "execution_count": 57
        }
      ]
    },
    {
      "cell_type": "markdown",
      "metadata": {
        "id": "DY-5PJzAPQPY"
      },
      "source": [
        "*Great! Now we only have dogs with single stage for further analysis*"
      ]
    },
    {
      "cell_type": "markdown",
      "metadata": {
        "id": "I-pa3mNePQPY"
      },
      "source": [
        "-----------------------"
      ]
    },
    {
      "cell_type": "markdown",
      "metadata": {
        "id": "9ZJvv09fPQPY"
      },
      "source": [
        "## Define"
      ]
    },
    {
      "cell_type": "markdown",
      "metadata": {
        "id": "sfyLwF-4PQPY"
      },
      "source": [
        "We have lots of incorrect dogs names such as a, an, the.., they are all in lower case letters. we suggest to replace it with null values so that we can know that the real dog name is missing."
      ]
    },
    {
      "cell_type": "markdown",
      "metadata": {
        "id": "EzR1YbbVPQPY"
      },
      "source": [
        "## Code"
      ]
    },
    {
      "cell_type": "code",
      "metadata": {
        "id": "6Gc7JfTZPQPY"
      },
      "source": [
        "full_archive.name = full_archive.name.astype(str)"
      ],
      "execution_count": null,
      "outputs": []
    },
    {
      "cell_type": "code",
      "metadata": {
        "id": "mVbzTmVaPQPY"
      },
      "source": [
        "full_archive['name'] = full_archive['name'].apply(lambda x: np.nan if x[0].islower() else x)"
      ],
      "execution_count": null,
      "outputs": []
    },
    {
      "cell_type": "markdown",
      "metadata": {
        "id": "j_wrGyJFPQPY"
      },
      "source": [
        "## Test"
      ]
    },
    {
      "cell_type": "code",
      "metadata": {
        "id": "JNboUdHqPQPY",
        "outputId": "bcd0e0e4-b182-44cb-94d1-48d8833c4ef2"
      },
      "source": [
        "full_archive['name'].value_counts()"
      ],
      "execution_count": null,
      "outputs": [
        {
          "output_type": "execute_result",
          "data": {
            "text/plain": [
              "Charlie    12\n",
              "Lucy       11\n",
              "Cooper     11\n",
              "Oliver     11\n",
              "Lola       10\n",
              "           ..\n",
              "Zeek        1\n",
              "Dug         1\n",
              "Sailor      1\n",
              "Jett        1\n",
              "Chesney     1\n",
              "Name: name, Length: 929, dtype: int64"
            ]
          },
          "metadata": {
            "tags": []
          },
          "execution_count": 60
        }
      ]
    },
    {
      "cell_type": "code",
      "metadata": {
        "id": "lVZRpmGzPQPY",
        "outputId": "d2771945-4085-4a25-b188-618b294e67ba"
      },
      "source": [
        "sum(full_archive['name'].str.islower() == False) + sum(full_archive['name'].isna())"
      ],
      "execution_count": null,
      "outputs": [
        {
          "output_type": "execute_result",
          "data": {
            "text/plain": [
              "2346"
            ]
          },
          "metadata": {
            "tags": []
          },
          "execution_count": 61
        }
      ]
    },
    {
      "cell_type": "markdown",
      "metadata": {
        "id": "ZcbZ2RCbPQPY"
      },
      "source": [
        "--------------------------------------------"
      ]
    },
    {
      "cell_type": "markdown",
      "metadata": {
        "id": "sfEvQo7SPQPY"
      },
      "source": [
        "## Define"
      ]
    },
    {
      "cell_type": "markdown",
      "metadata": {
        "id": "82Z6QPj7PQPY"
      },
      "source": [
        "Merging image predtion table with full_archive using pd.merge on tweet id as the key "
      ]
    },
    {
      "cell_type": "markdown",
      "metadata": {
        "id": "Xr13xAUwPQPY"
      },
      "source": [
        "## Code"
      ]
    },
    {
      "cell_type": "code",
      "metadata": {
        "id": "IDZv-u-3PQPY"
      },
      "source": [
        "full_archive = pd.merge(full_archive, image_predict_clean, on='tweet_id')"
      ],
      "execution_count": null,
      "outputs": []
    },
    {
      "cell_type": "markdown",
      "metadata": {
        "id": "0zSjnt1QPQPY"
      },
      "source": [
        "## Test"
      ]
    },
    {
      "cell_type": "code",
      "metadata": {
        "id": "4b8mAqtWPQPY",
        "outputId": "25902b35-7d16-4793-ac77-c7e2bf905724"
      },
      "source": [
        "full_archive.head(3)"
      ],
      "execution_count": null,
      "outputs": [
        {
          "output_type": "execute_result",
          "data": {
            "text/html": [
              "<div>\n",
              "<style scoped>\n",
              "    .dataframe tbody tr th:only-of-type {\n",
              "        vertical-align: middle;\n",
              "    }\n",
              "\n",
              "    .dataframe tbody tr th {\n",
              "        vertical-align: top;\n",
              "    }\n",
              "\n",
              "    .dataframe thead th {\n",
              "        text-align: right;\n",
              "    }\n",
              "</style>\n",
              "<table border=\"1\" class=\"dataframe\">\n",
              "  <thead>\n",
              "    <tr style=\"text-align: right;\">\n",
              "      <th></th>\n",
              "      <th>tweet_id</th>\n",
              "      <th>timestamp</th>\n",
              "      <th>source</th>\n",
              "      <th>text</th>\n",
              "      <th>retweeted_status_id</th>\n",
              "      <th>retweeted_status_user_id</th>\n",
              "      <th>retweeted_status_timestamp</th>\n",
              "      <th>expanded_urls</th>\n",
              "      <th>rating_numerator</th>\n",
              "      <th>rating_denominator</th>\n",
              "      <th>...</th>\n",
              "      <th>img_num</th>\n",
              "      <th>first_pred</th>\n",
              "      <th>p1_conf</th>\n",
              "      <th>p1_dog</th>\n",
              "      <th>second_pred</th>\n",
              "      <th>p2_conf</th>\n",
              "      <th>p2_dog</th>\n",
              "      <th>third_pred</th>\n",
              "      <th>p3_conf</th>\n",
              "      <th>p3_dog</th>\n",
              "    </tr>\n",
              "  </thead>\n",
              "  <tbody>\n",
              "    <tr>\n",
              "      <th>0</th>\n",
              "      <td>892420643555336193</td>\n",
              "      <td>2017-08-01 16:23:56+00:00</td>\n",
              "      <td>Twitter for iPhone</td>\n",
              "      <td>This is Phineas. He's a mystical boy. Only eve...</td>\n",
              "      <td>NaN</td>\n",
              "      <td>NaN</td>\n",
              "      <td>NaN</td>\n",
              "      <td>https://twitter.com/dog_rates/status/892420643...</td>\n",
              "      <td>13</td>\n",
              "      <td>10</td>\n",
              "      <td>...</td>\n",
              "      <td>1</td>\n",
              "      <td>Welsh_springer_spaniel</td>\n",
              "      <td>0.465074</td>\n",
              "      <td>True</td>\n",
              "      <td>collie</td>\n",
              "      <td>0.156665</td>\n",
              "      <td>True</td>\n",
              "      <td>Shetland_sheepdog</td>\n",
              "      <td>0.061428</td>\n",
              "      <td>True</td>\n",
              "    </tr>\n",
              "    <tr>\n",
              "      <th>1</th>\n",
              "      <td>892177421306343426</td>\n",
              "      <td>2017-08-01 00:17:27+00:00</td>\n",
              "      <td>Twitter for iPhone</td>\n",
              "      <td>This is Tilly. She's just checking pup on you....</td>\n",
              "      <td>NaN</td>\n",
              "      <td>NaN</td>\n",
              "      <td>NaN</td>\n",
              "      <td>https://twitter.com/dog_rates/status/892177421...</td>\n",
              "      <td>13</td>\n",
              "      <td>10</td>\n",
              "      <td>...</td>\n",
              "      <td>1</td>\n",
              "      <td>redbone</td>\n",
              "      <td>0.506826</td>\n",
              "      <td>True</td>\n",
              "      <td>miniature_pinscher</td>\n",
              "      <td>0.074192</td>\n",
              "      <td>True</td>\n",
              "      <td>Rhodesian_ridgeback</td>\n",
              "      <td>0.072010</td>\n",
              "      <td>True</td>\n",
              "    </tr>\n",
              "    <tr>\n",
              "      <th>2</th>\n",
              "      <td>891815181378084864</td>\n",
              "      <td>2017-07-31 00:18:03+00:00</td>\n",
              "      <td>Twitter for iPhone</td>\n",
              "      <td>This is Archie. He is a rare Norwegian Pouncin...</td>\n",
              "      <td>NaN</td>\n",
              "      <td>NaN</td>\n",
              "      <td>NaN</td>\n",
              "      <td>https://twitter.com/dog_rates/status/891815181...</td>\n",
              "      <td>12</td>\n",
              "      <td>10</td>\n",
              "      <td>...</td>\n",
              "      <td>1</td>\n",
              "      <td>German_shepherd</td>\n",
              "      <td>0.596461</td>\n",
              "      <td>True</td>\n",
              "      <td>malinois</td>\n",
              "      <td>0.138584</td>\n",
              "      <td>True</td>\n",
              "      <td>bloodhound</td>\n",
              "      <td>0.116197</td>\n",
              "      <td>True</td>\n",
              "    </tr>\n",
              "  </tbody>\n",
              "</table>\n",
              "<p>3 rows × 25 columns</p>\n",
              "</div>"
            ],
            "text/plain": [
              "             tweet_id                 timestamp              source  \\\n",
              "0  892420643555336193 2017-08-01 16:23:56+00:00  Twitter for iPhone   \n",
              "1  892177421306343426 2017-08-01 00:17:27+00:00  Twitter for iPhone   \n",
              "2  891815181378084864 2017-07-31 00:18:03+00:00  Twitter for iPhone   \n",
              "\n",
              "                                                text  retweeted_status_id  \\\n",
              "0  This is Phineas. He's a mystical boy. Only eve...                  NaN   \n",
              "1  This is Tilly. She's just checking pup on you....                  NaN   \n",
              "2  This is Archie. He is a rare Norwegian Pouncin...                  NaN   \n",
              "\n",
              "   retweeted_status_user_id retweeted_status_timestamp  \\\n",
              "0                       NaN                        NaN   \n",
              "1                       NaN                        NaN   \n",
              "2                       NaN                        NaN   \n",
              "\n",
              "                                       expanded_urls  rating_numerator  \\\n",
              "0  https://twitter.com/dog_rates/status/892420643...                13   \n",
              "1  https://twitter.com/dog_rates/status/892177421...                13   \n",
              "2  https://twitter.com/dog_rates/status/891815181...                12   \n",
              "\n",
              "   rating_denominator  ... img_num              first_pred   p1_conf p1_dog  \\\n",
              "0                  10  ...       1  Welsh_springer_spaniel  0.465074   True   \n",
              "1                  10  ...       1                 redbone  0.506826   True   \n",
              "2                  10  ...       1         German_shepherd  0.596461   True   \n",
              "\n",
              "          second_pred   p2_conf p2_dog           third_pred   p3_conf p3_dog  \n",
              "0              collie  0.156665   True    Shetland_sheepdog  0.061428   True  \n",
              "1  miniature_pinscher  0.074192   True  Rhodesian_ridgeback  0.072010   True  \n",
              "2            malinois  0.138584   True           bloodhound  0.116197   True  \n",
              "\n",
              "[3 rows x 25 columns]"
            ]
          },
          "metadata": {
            "tags": []
          },
          "execution_count": 63
        }
      ]
    },
    {
      "cell_type": "markdown",
      "metadata": {
        "id": "pYkr2LnyPQPY"
      },
      "source": [
        "---------------------------------------"
      ]
    },
    {
      "cell_type": "markdown",
      "metadata": {
        "id": "BfagIjeFPQPY"
      },
      "source": [
        "## Define"
      ]
    },
    {
      "cell_type": "markdown",
      "metadata": {
        "id": "3bI1DtXWPQPY"
      },
      "source": [
        "We need to reduce the number of predictions columns into two columns(prediction, confidence level), where prediction will give results only if the image was predicted to be dog\n",
        "\n",
        "in this step we first define the possible three case of predicting a dog: \n",
        "    \n",
        "**case1:** first prediction is a dog. In this case, the predicted bread name will be taken as the value of the prediction column\n",
        "    \n",
        "**case2:** the first prediction is not a dog but the second prediction is a dog. In this case, the second predicted bread name will be taken as the value of the prediction column\n",
        "    \n",
        "**case3:** Neither the first prediction nor the second prediction is a dog but the third one is. In this case, the third predicted bread name will be taken as the value of the prediction column\n",
        "\n",
        "these step will be repeated for the confidence level. \n",
        "\n",
        "\n",
        "lastly, we will drop the 9 columns `'first_pred','p1_conf','p1_dog','second_pred','p2_conf','p2_dog','third_pred','p3_conf','p3_dog'` since that we no longer need them"
      ]
    },
    {
      "cell_type": "markdown",
      "metadata": {
        "id": "XTutzlCuPQPY"
      },
      "source": [
        "## Code"
      ]
    },
    {
      "cell_type": "code",
      "metadata": {
        "id": "M8hC7kXYPQPY"
      },
      "source": [
        "case1 = full_archive.query('p1_dog == True') #first prediction is a dog\n",
        "case2 = full_archive.query('p1_dog == False & p2_dog == True') #second prediction is a dog but not the first\n",
        "case3 = full_archive.query('p1_dog == False & p2_dog == False & p3_dog == True') #neither the first or the second is a dog but the third one is. \n",
        "\n",
        "\n",
        "#creating a new column - prediction - using the indexes taken from the 3 possible cases of prediction of dogs\n",
        "full_archive.loc[full_archive.index.isin(case1.index), 'Prediction']  = full_archive.first_pred\n",
        "full_archive.loc[full_archive.index.isin(case2.index), 'Prediction']  = full_archive.second_pred\n",
        "full_archive.loc[full_archive.index.isin(case3.index), 'Prediction']  = full_archive.third_pred\n",
        "\n",
        "#creating a new column - confidence level - using the indexes taken from the 3 possible cases of prediction of dogs\n",
        "full_archive.loc[full_archive.index.isin(case1.index), 'Confidence']  = full_archive.p1_conf\n",
        "full_archive.loc[full_archive.index.isin(case2.index), 'Confidence']  = full_archive.p2_conf\n",
        "full_archive.loc[full_archive.index.isin(case3.index), 'Confidence']  = full_archive.p3_conf"
      ],
      "execution_count": null,
      "outputs": []
    },
    {
      "cell_type": "code",
      "metadata": {
        "id": "i-7OvAdSPQPY"
      },
      "source": [
        "full_archive = full_archive.drop(['first_pred',\n",
        " 'p1_conf',\n",
        " 'p1_dog',\n",
        " 'second_pred',\n",
        " 'p2_conf',\n",
        " 'p2_dog',\n",
        " 'third_pred',\n",
        " 'p3_conf',\n",
        " 'p3_dog'], axis=1)"
      ],
      "execution_count": null,
      "outputs": []
    },
    {
      "cell_type": "markdown",
      "metadata": {
        "id": "TQcq9YftPQPY"
      },
      "source": [
        "## Test"
      ]
    },
    {
      "cell_type": "code",
      "metadata": {
        "id": "Cw8ipeJKPQPZ",
        "outputId": "97694cab-7989-43ea-a234-baff33462aa3"
      },
      "source": [
        "full_archive.head(3)"
      ],
      "execution_count": null,
      "outputs": [
        {
          "output_type": "execute_result",
          "data": {
            "text/html": [
              "<div>\n",
              "<style scoped>\n",
              "    .dataframe tbody tr th:only-of-type {\n",
              "        vertical-align: middle;\n",
              "    }\n",
              "\n",
              "    .dataframe tbody tr th {\n",
              "        vertical-align: top;\n",
              "    }\n",
              "\n",
              "    .dataframe thead th {\n",
              "        text-align: right;\n",
              "    }\n",
              "</style>\n",
              "<table border=\"1\" class=\"dataframe\">\n",
              "  <thead>\n",
              "    <tr style=\"text-align: right;\">\n",
              "      <th></th>\n",
              "      <th>tweet_id</th>\n",
              "      <th>timestamp</th>\n",
              "      <th>source</th>\n",
              "      <th>text</th>\n",
              "      <th>retweeted_status_id</th>\n",
              "      <th>retweeted_status_user_id</th>\n",
              "      <th>retweeted_status_timestamp</th>\n",
              "      <th>expanded_urls</th>\n",
              "      <th>rating_numerator</th>\n",
              "      <th>rating_denominator</th>\n",
              "      <th>name</th>\n",
              "      <th>retweet_count</th>\n",
              "      <th>favorite_count</th>\n",
              "      <th>stage</th>\n",
              "      <th>jpg_url</th>\n",
              "      <th>img_num</th>\n",
              "      <th>Prediction</th>\n",
              "      <th>Confidence</th>\n",
              "    </tr>\n",
              "  </thead>\n",
              "  <tbody>\n",
              "    <tr>\n",
              "      <th>0</th>\n",
              "      <td>892420643555336193</td>\n",
              "      <td>2017-08-01 16:23:56+00:00</td>\n",
              "      <td>Twitter for iPhone</td>\n",
              "      <td>This is Phineas. He's a mystical boy. Only eve...</td>\n",
              "      <td>NaN</td>\n",
              "      <td>NaN</td>\n",
              "      <td>NaN</td>\n",
              "      <td>https://twitter.com/dog_rates/status/892420643...</td>\n",
              "      <td>13</td>\n",
              "      <td>10</td>\n",
              "      <td>Phineas</td>\n",
              "      <td>7473</td>\n",
              "      <td>35383</td>\n",
              "      <td>NaN</td>\n",
              "      <td>https://pbs.twimg.com/media/CT4udn0WwAA0aMy.jpg</td>\n",
              "      <td>1</td>\n",
              "      <td>Welsh_springer_spaniel</td>\n",
              "      <td>0.465074</td>\n",
              "    </tr>\n",
              "    <tr>\n",
              "      <th>1</th>\n",
              "      <td>892177421306343426</td>\n",
              "      <td>2017-08-01 00:17:27+00:00</td>\n",
              "      <td>Twitter for iPhone</td>\n",
              "      <td>This is Tilly. She's just checking pup on you....</td>\n",
              "      <td>NaN</td>\n",
              "      <td>NaN</td>\n",
              "      <td>NaN</td>\n",
              "      <td>https://twitter.com/dog_rates/status/892177421...</td>\n",
              "      <td>13</td>\n",
              "      <td>10</td>\n",
              "      <td>Tilly</td>\n",
              "      <td>5547</td>\n",
              "      <td>30631</td>\n",
              "      <td>NaN</td>\n",
              "      <td>https://pbs.twimg.com/media/CT42GRgUYAA5iDo.jpg</td>\n",
              "      <td>1</td>\n",
              "      <td>redbone</td>\n",
              "      <td>0.506826</td>\n",
              "    </tr>\n",
              "    <tr>\n",
              "      <th>2</th>\n",
              "      <td>891815181378084864</td>\n",
              "      <td>2017-07-31 00:18:03+00:00</td>\n",
              "      <td>Twitter for iPhone</td>\n",
              "      <td>This is Archie. He is a rare Norwegian Pouncin...</td>\n",
              "      <td>NaN</td>\n",
              "      <td>NaN</td>\n",
              "      <td>NaN</td>\n",
              "      <td>https://twitter.com/dog_rates/status/891815181...</td>\n",
              "      <td>12</td>\n",
              "      <td>10</td>\n",
              "      <td>Archie</td>\n",
              "      <td>3671</td>\n",
              "      <td>23037</td>\n",
              "      <td>NaN</td>\n",
              "      <td>https://pbs.twimg.com/media/CT4521TWwAEvMyu.jpg</td>\n",
              "      <td>1</td>\n",
              "      <td>German_shepherd</td>\n",
              "      <td>0.596461</td>\n",
              "    </tr>\n",
              "  </tbody>\n",
              "</table>\n",
              "</div>"
            ],
            "text/plain": [
              "             tweet_id                 timestamp              source  \\\n",
              "0  892420643555336193 2017-08-01 16:23:56+00:00  Twitter for iPhone   \n",
              "1  892177421306343426 2017-08-01 00:17:27+00:00  Twitter for iPhone   \n",
              "2  891815181378084864 2017-07-31 00:18:03+00:00  Twitter for iPhone   \n",
              "\n",
              "                                                text  retweeted_status_id  \\\n",
              "0  This is Phineas. He's a mystical boy. Only eve...                  NaN   \n",
              "1  This is Tilly. She's just checking pup on you....                  NaN   \n",
              "2  This is Archie. He is a rare Norwegian Pouncin...                  NaN   \n",
              "\n",
              "   retweeted_status_user_id retweeted_status_timestamp  \\\n",
              "0                       NaN                        NaN   \n",
              "1                       NaN                        NaN   \n",
              "2                       NaN                        NaN   \n",
              "\n",
              "                                       expanded_urls  rating_numerator  \\\n",
              "0  https://twitter.com/dog_rates/status/892420643...                13   \n",
              "1  https://twitter.com/dog_rates/status/892177421...                13   \n",
              "2  https://twitter.com/dog_rates/status/891815181...                12   \n",
              "\n",
              "   rating_denominator     name  retweet_count  favorite_count stage  \\\n",
              "0                  10  Phineas           7473           35383   NaN   \n",
              "1                  10    Tilly           5547           30631   NaN   \n",
              "2                  10   Archie           3671           23037   NaN   \n",
              "\n",
              "                                           jpg_url  img_num  \\\n",
              "0  https://pbs.twimg.com/media/CT4udn0WwAA0aMy.jpg        1   \n",
              "1  https://pbs.twimg.com/media/CT42GRgUYAA5iDo.jpg        1   \n",
              "2  https://pbs.twimg.com/media/CT4521TWwAEvMyu.jpg        1   \n",
              "\n",
              "               Prediction  Confidence  \n",
              "0  Welsh_springer_spaniel    0.465074  \n",
              "1                 redbone    0.506826  \n",
              "2         German_shepherd    0.596461  "
            ]
          },
          "metadata": {
            "tags": []
          },
          "execution_count": 66
        }
      ]
    },
    {
      "cell_type": "markdown",
      "metadata": {
        "id": "xU23jPawPQPZ"
      },
      "source": [
        "## <div id=explore> Exploratory Data Analysis <div>"
      ]
    },
    {
      "cell_type": "markdown",
      "metadata": {
        "id": "2642kHYHPQPZ"
      },
      "source": [
        "### Research Questions: \n",
        "    \n",
        "1- what are the most used source for rating in weRateDogs? \n",
        "\n",
        "2- what are the most common words in tweets associated with dogs in doggo stage?\n",
        "\n",
        "3- what are the most common hour of dogs rating tweets?\n",
        "\n",
        "4- What is the stage that got the most average retweet? how about the most favorited one?\n",
        "\n",
        "5- What are the top ten favorited bread? how about the top retweeted?*"
      ]
    },
    {
      "cell_type": "markdown",
      "metadata": {
        "id": "SPnSiTL3PQPZ"
      },
      "source": [
        "----------------------------"
      ]
    },
    {
      "cell_type": "markdown",
      "metadata": {
        "id": "u8lJ1IrtPQPZ"
      },
      "source": [
        "#### *1- what are the most used source for rating in weRateDogs?*"
      ]
    },
    {
      "cell_type": "code",
      "metadata": {
        "id": "xfWhA7whPQPZ",
        "outputId": "47d8a631-418d-46d7-c109-113b7032bd7c"
      },
      "source": [
        "full_archive.groupby('source')['tweet_id'].count().reset_index()['tweet_id'].tolist()"
      ],
      "execution_count": null,
      "outputs": [
        {
          "output_type": "execute_result",
          "data": {
            "text/plain": [
              "[9, 12, 1837, 78]"
            ]
          },
          "metadata": {
            "tags": []
          },
          "execution_count": 67
        }
      ]
    },
    {
      "cell_type": "code",
      "metadata": {
        "id": "ORtKfORwPQPZ",
        "outputId": "a3278845-ee81-44b2-8edb-7c2de8925c36"
      },
      "source": [
        "plt.figure(figsize = [15, 7])\n",
        "\n",
        "full_archive.groupby('source')['tweet_id'].count().plot(kind='bar')\n",
        "\n",
        "plt.title('Counting Source of Tweets', size='16')\n",
        "plt.xlabel('Tweeting Source')\n",
        "plt.ylabel('No. Tweets');"
      ],
      "execution_count": null,
      "outputs": [
        {
          "output_type": "display_data",
          "data": {
            "image/png": "[encoded data removed]",
            "text/plain": [
              "<Figure size 1080x504 with 1 Axes>"
            ]
          },
          "metadata": {
            "tags": []
          }
        }
      ]
    },
    {
      "cell_type": "markdown",
      "metadata": {
        "id": "Q8Pf1m5gPQPZ"
      },
      "source": [
        "##### *from the figure above, it is clear that twitter for iphone is the most used application for tweeting in this WeRateDogs followed by Vine*"
      ]
    },
    {
      "cell_type": "markdown",
      "metadata": {
        "id": "LyFh0J-dPQPZ"
      },
      "source": [
        "-----------------------------------------"
      ]
    },
    {
      "cell_type": "markdown",
      "metadata": {
        "id": "9j-VqE9lPQPZ"
      },
      "source": [
        "#### *2- what are the most common words in tweets associated with dogs in doggo stage?*"
      ]
    },
    {
      "cell_type": "markdown",
      "metadata": {
        "id": "Xtk0uSCgPQPZ"
      },
      "source": [
        "The following code was adapted from a web page named <a href='https://www.datacamp.com/community/tutorials/wordcloud-python'> Generating WordClouds in Python</a>."
      ]
    },
    {
      "cell_type": "code",
      "metadata": {
        "id": "jzW6mLKfPQPZ"
      },
      "source": [
        "pupper_set = full_archive.query('stage == \"doggo\"')\n",
        "\n",
        "#generating a full text of all words in doggo texts\n",
        "full_text = \" \".join(x for x in pupper_set.text)\n",
        "\n",
        "#choosing the word that we don't want it to apear in the word cloud\n",
        "stopwords = set(STOPWORDS)\n",
        "stopwords.update([\"https\", \"pupper\", \"dog_rates\", \"CO\", \"af\",\"RT\",\"doggo\",'vid','tho','ckin'])"
      ],
      "execution_count": null,
      "outputs": []
    },
    {
      "cell_type": "code",
      "metadata": {
        "id": "0xLDaJoIPQPZ"
      },
      "source": [
        "from PIL import Image\n",
        "\n",
        "#creating a mask from a given image\n",
        "dog_mask = np.array(Image.open(\"dog_pic2.png\"))"
      ],
      "execution_count": null,
      "outputs": []
    },
    {
      "cell_type": "code",
      "metadata": {
        "id": "5dIygn8BPQPZ",
        "outputId": "57ad900a-af94-41f4-c93a-ae24967177ef"
      },
      "source": [
        "wc = WordCloud(background_color=\"white\", max_words=1000, mask=dog_mask,\n",
        "               stopwords=stopwords, contour_width=3, contour_color='firebrick')\n",
        "\n",
        "# Generate a wordcloud\n",
        "wc.generate(full_text)\n",
        "\n",
        "# show\n",
        "plt.figure(figsize=[15,10])\n",
        "plt.imshow(wc, interpolation='bilinear')\n",
        "plt.axis(\"off\")\n",
        "plt.show()"
      ],
      "execution_count": null,
      "outputs": [
        {
          "output_type": "display_data",
          "data": {
            "image/png": "[encoded data removed]",
            "text/plain": [
              "<Figure size 1080x720 with 1 Axes>"
            ]
          },
          "metadata": {
            "tags": []
          }
        }
      ]
    },
    {
      "cell_type": "markdown",
      "metadata": {
        "id": "cRW0qS7DPQPZ"
      },
      "source": [
        "##### *Voila! the word cloud generated the most common words associated with the dogs in doggo stage. the words include smile, good, meet, pet and help. which is mostly positive words.*![image.png](attachment:740e3ffc-483c-4005-9a99-36c05289e5df.png)"
      ]
    },
    {
      "cell_type": "markdown",
      "metadata": {
        "id": "7N758s8jPQPZ"
      },
      "source": [
        "---------------------------"
      ]
    },
    {
      "cell_type": "markdown",
      "metadata": {
        "id": "gl2NIgFuPQPZ"
      },
      "source": [
        "#### *3- what are the most common hour of dogs rating tweets?*"
      ]
    },
    {
      "cell_type": "code",
      "metadata": {
        "id": "YRM89mB4PQPZ",
        "outputId": "665d2716-ec7d-4673-ff32-7551ef011369"
      },
      "source": [
        "plt.figure(figsize = [15, 5])\n",
        "\n",
        "full_archive.groupby(full_archive.timestamp.dt.hour).tweet_id.count().plot(kind='line', marker='o')\n",
        "\n",
        "plt.title('No.of tweets per hour', size='16')\n",
        "plt.xlabel('Hours in 24-hour Notation')\n",
        "plt.ylabel('No. Tweets');"
      ],
      "execution_count": null,
      "outputs": [
        {
          "output_type": "display_data",
          "data": {
            "image/png": "[encoded data removed]",
            "text/plain": [
              "<Figure size 1080x360 with 1 Axes>"
            ]
          },
          "metadata": {
            "tags": []
          }
        }
      ]
    },
    {
      "cell_type": "markdown",
      "metadata": {
        "id": "YnzEPSqUPQPZ"
      },
      "source": [
        "##### *we can see from the above figure that the most common tweeting hour is between 1 am - 2 am*"
      ]
    },
    {
      "cell_type": "markdown",
      "metadata": {
        "id": "LAYGl3JqPQPZ"
      },
      "source": [
        "---------------------------"
      ]
    },
    {
      "cell_type": "markdown",
      "metadata": {
        "id": "yKKEstd5PQPZ"
      },
      "source": [
        "#### *4- What is the stage that got the most average retweet? how about the most favorited one?*"
      ]
    },
    {
      "cell_type": "code",
      "metadata": {
        "id": "90PJ1fohPQPZ",
        "outputId": "e756f4cb-f09a-431c-c3a0-2ba4c16e0bf5"
      },
      "source": [
        "full_archive.groupby('stage').mean()[['retweet_count','favorite_count']]"
      ],
      "execution_count": null,
      "outputs": [
        {
          "output_type": "execute_result",
          "data": {
            "text/html": [
              "<div>\n",
              "<style scoped>\n",
              "    .dataframe tbody tr th:only-of-type {\n",
              "        vertical-align: middle;\n",
              "    }\n",
              "\n",
              "    .dataframe tbody tr th {\n",
              "        vertical-align: top;\n",
              "    }\n",
              "\n",
              "    .dataframe thead th {\n",
              "        text-align: right;\n",
              "    }\n",
              "</style>\n",
              "<table border=\"1\" class=\"dataframe\">\n",
              "  <thead>\n",
              "    <tr style=\"text-align: right;\">\n",
              "      <th></th>\n",
              "      <th>retweet_count</th>\n",
              "      <th>favorite_count</th>\n",
              "    </tr>\n",
              "    <tr>\n",
              "      <th>stage</th>\n",
              "      <th></th>\n",
              "      <th></th>\n",
              "    </tr>\n",
              "  </thead>\n",
              "  <tbody>\n",
              "    <tr>\n",
              "      <th>doggo</th>\n",
              "      <td>5872.629630</td>\n",
              "      <td>14686.012346</td>\n",
              "    </tr>\n",
              "    <tr>\n",
              "      <th>floofer</th>\n",
              "      <td>4243.625000</td>\n",
              "      <td>12613.625000</td>\n",
              "    </tr>\n",
              "    <tr>\n",
              "      <th>pupper</th>\n",
              "      <td>2435.369159</td>\n",
              "      <td>6209.233645</td>\n",
              "    </tr>\n",
              "    <tr>\n",
              "      <th>puppo</th>\n",
              "      <td>5880.586207</td>\n",
              "      <td>17574.655172</td>\n",
              "    </tr>\n",
              "  </tbody>\n",
              "</table>\n",
              "</div>"
            ],
            "text/plain": [
              "         retweet_count  favorite_count\n",
              "stage                                 \n",
              "doggo      5872.629630    14686.012346\n",
              "floofer    4243.625000    12613.625000\n",
              "pupper     2435.369159     6209.233645\n",
              "puppo      5880.586207    17574.655172"
            ]
          },
          "metadata": {
            "tags": []
          },
          "execution_count": 73
        }
      ]
    },
    {
      "cell_type": "code",
      "metadata": {
        "id": "xkRuRJBfPQPZ",
        "outputId": "83083def-4891-4daa-d3a5-7a1fb6662ab8"
      },
      "source": [
        "full_archive.groupby('stage').mean()[['retweet_count','favorite_count']].plot(kind='bar', figsize=(15,5))\n",
        "\n",
        "plt.title('most retweeted/favorit dog stage', size='16')\n",
        "plt.xlabel('Dog stages')\n",
        "plt.ylabel('Number of retweets/favorites');"
      ],
      "execution_count": null,
      "outputs": [
        {
          "output_type": "display_data",
          "data": {
            "image/png": "[encoded data removed]",
            "text/plain": [
              "<Figure size 1080x360 with 1 Axes>"
            ]
          },
          "metadata": {
            "tags": []
          }
        }
      ]
    },
    {
      "cell_type": "markdown",
      "metadata": {
        "id": "mQFqq8dhPQPZ"
      },
      "source": [
        "##### *We can see from the above figure that the most retweeted stage is puppo with small difference margin from doggo. In term of favorited tweets, puppo is clearly the highest among the other stages followed by doggo.*"
      ]
    },
    {
      "cell_type": "markdown",
      "metadata": {
        "id": "DPq2noYpPQPZ"
      },
      "source": [
        "#### *5- What are the top ten favorited bread? how about the top retweeted?*"
      ]
    },
    {
      "cell_type": "code",
      "metadata": {
        "id": "gQucukv6PQPZ",
        "outputId": "b020a1c2-bdbd-4a29-b9b5-ce936e1ee63d"
      },
      "source": [
        "plot = full_archive.groupby('Prediction')['favorite_count'].mean().head(10).sort_values(ascending=False)\n",
        "\n",
        "plot.plot(kind='bar', figsize=(15,10), color=sns.color_palette(\"mako\"))\n",
        "\n",
        "plt.title('No.of favorites for each bread')\n",
        "plt.xlabel('Bread')\n",
        "plt.ylabel('No.of favorites');"
      ],
      "execution_count": null,
      "outputs": [
        {
          "output_type": "display_data",
          "data": {
            "image/png": "[encoded data removed]",
            "text/plain": [
              "<Figure size 1080x720 with 1 Axes>"
            ]
          },
          "metadata": {
            "tags": []
          }
        }
      ]
    },
    {
      "cell_type": "markdown",
      "metadata": {
        "id": "scI9UX4APQPZ"
      },
      "source": [
        "##### *from the figure, we can see that the top 10 breads in average favorites. the tob bread was Airdale followed by Bernese_mountain_dog*"
      ]
    },
    {
      "cell_type": "code",
      "metadata": {
        "id": "MW-DJsBtPQPZ",
        "outputId": "4d69c960-c52d-437f-ece0-43ffdb1d3fb6"
      },
      "source": [
        "full_archive.info()"
      ],
      "execution_count": null,
      "outputs": [
        {
          "output_type": "stream",
          "text": [
            "<class 'pandas.core.frame.DataFrame'>\n",
            "Int64Index: 1936 entries, 0 to 1935\n",
            "Data columns (total 18 columns):\n",
            " #   Column                      Non-Null Count  Dtype              \n",
            "---  ------                      --------------  -----              \n",
            " 0   tweet_id                    1936 non-null   object             \n",
            " 1   timestamp                   1936 non-null   datetime64[ns, UTC]\n",
            " 2   source                      1936 non-null   object             \n",
            " 3   text                        1936 non-null   object             \n",
            " 4   retweeted_status_id         157 non-null    float64            \n",
            " 5   retweeted_status_user_id    157 non-null    float64            \n",
            " 6   retweeted_status_timestamp  157 non-null    object             \n",
            " 7   expanded_urls               1881 non-null   object             \n",
            " 8   rating_numerator            1936 non-null   int64              \n",
            " 9   rating_denominator          1936 non-null   int64              \n",
            " 10  name                        1275 non-null   object             \n",
            " 11  retweet_count               1936 non-null   int64              \n",
            " 12  favorite_count              1936 non-null   int64              \n",
            " 13  stage                       332 non-null    object             \n",
            " 14  jpg_url                     1936 non-null   object             \n",
            " 15  img_num                     1936 non-null   int64              \n",
            " 16  Prediction                  1625 non-null   object             \n",
            " 17  Confidence                  1625 non-null   float64            \n",
            "dtypes: datetime64[ns, UTC](1), float64(3), int64(5), object(9)\n",
            "memory usage: 367.4+ KB\n"
          ],
          "name": "stdout"
        }
      ]
    },
    {
      "cell_type": "code",
      "metadata": {
        "id": "RBsDctTePQPZ"
      },
      "source": [
        ""
      ],
      "execution_count": null,
      "outputs": []
    }
  ]
}